{
 "cells": [
  {
   "cell_type": "markdown",
   "id": "1e170379-61a0-4efb-ad53-2a0128848387",
   "metadata": {},
   "source": [
    "# Exploratory Data Analysis\n",
    "\n",
    "Intro\n",
    "\n",
    "## Outline\n",
    "1. Overview of Raw Data\n",
    "2. Reshaping the Data for Sequential Analysis\n",
    "3. Conversation Analysis\n",
    "4. Text Analysis\n",
    "5. Speaker Sequence Analysis\n",
    "6. Topic Frequency Analysis\n",
    "7. Summary"
   ]
  },
  {
   "cell_type": "markdown",
   "id": "9559c2b1-fdd4-4b1a-afb5-e2b6c3e7e305",
   "metadata": {},
   "source": [
    "## 1. Overview of Raw Data"
   ]
  },
  {
   "cell_type": "markdown",
   "id": "53dfadfe-90c8-49ab-b29c-6cdaa721d638",
   "metadata": {
    "jp-MarkdownHeadingCollapsed": true
   },
   "source": [
    "Download and observe the raw data."
   ]
  },
  {
   "cell_type": "code",
   "execution_count": 1,
   "id": "7fe9d055-cf07-4f07-8996-e2489ecc80fd",
   "metadata": {},
   "outputs": [],
   "source": [
    "from collections import Counter\n",
    "import matplotlib.pyplot as plt\n",
    "import nltk\n",
    "from nltk.corpus import stopwords\n",
    "import numpy as np\n",
    "import pandas as pd\n",
    "import seaborn as sns\n",
    "import textstat\n",
    "import warnings\n",
    "\n",
    "warnings.filterwarnings('ignore')"
   ]
  },
  {
   "cell_type": "code",
   "execution_count": 2,
   "id": "f260c444-1bf1-4133-9995-7dfa17bf4ca6",
   "metadata": {},
   "outputs": [],
   "source": [
    "# from datasets import load_dataset\n",
    "\n",
    "# dataset = load_dataset(\"goendalf666/sales-conversations\")\n",
    "# df = pd.DataFrame(dataset[\"train\"])\n",
    "\n",
    "# df.head()"
   ]
  },
  {
   "cell_type": "code",
   "execution_count": 3,
   "id": "bc63bc68-eeaa-46c4-9824-31e50aedcdf9",
   "metadata": {},
   "outputs": [],
   "source": [
    "# # Save to csv\n",
    "# dataset[\"train\"].to_csv(\"sales_conversations.csv\", index=False)"
   ]
  },
  {
   "cell_type": "code",
   "execution_count": 4,
   "id": "93053311-2444-46e6-bd3f-5bf6776b6c74",
   "metadata": {},
   "outputs": [
    {
     "data": {
      "text/html": [
       "<div>\n",
       "<style scoped>\n",
       "    .dataframe tbody tr th:only-of-type {\n",
       "        vertical-align: middle;\n",
       "    }\n",
       "\n",
       "    .dataframe tbody tr th {\n",
       "        vertical-align: top;\n",
       "    }\n",
       "\n",
       "    .dataframe thead th {\n",
       "        text-align: right;\n",
       "    }\n",
       "</style>\n",
       "<table border=\"1\" class=\"dataframe\">\n",
       "  <thead>\n",
       "    <tr style=\"text-align: right;\">\n",
       "      <th></th>\n",
       "      <th>0</th>\n",
       "      <th>1</th>\n",
       "      <th>2</th>\n",
       "      <th>3</th>\n",
       "      <th>4</th>\n",
       "      <th>5</th>\n",
       "      <th>6</th>\n",
       "      <th>7</th>\n",
       "      <th>8</th>\n",
       "      <th>9</th>\n",
       "      <th>10</th>\n",
       "      <th>11</th>\n",
       "      <th>12</th>\n",
       "      <th>13</th>\n",
       "      <th>14</th>\n",
       "      <th>15</th>\n",
       "      <th>16</th>\n",
       "      <th>17</th>\n",
       "      <th>18</th>\n",
       "      <th>19</th>\n",
       "    </tr>\n",
       "  </thead>\n",
       "  <tbody>\n",
       "    <tr>\n",
       "      <th>0</th>\n",
       "      <td>Customer: Hi, Im interested in purchasing a ne...</td>\n",
       "      <td>Salesman: Of course, Id be happy to assist you...</td>\n",
       "      <td>Customer: Im looking for a laptop that can han...</td>\n",
       "      <td>Salesman: Absolutely! In order to find the bes...</td>\n",
       "      <td>Customer: Im considering upgrading my companys...</td>\n",
       "      <td>Salesman: Thank you for considering us for you...</td>\n",
       "      <td>Customer: Im in the market for a new smartwatc...</td>\n",
       "      <td>Salesman: Absolutely! Before we proceed, could...</td>\n",
       "      <td>Customer: Im looking to buy a new printer for ...</td>\n",
       "      <td>Salesman: Certainly! To assist you in finding ...</td>\n",
       "      <td>Customer: Im interested in purchasing a gaming...</td>\n",
       "      <td>Salesman: Great! Before I can recommend the id...</td>\n",
       "      <td>NaN</td>\n",
       "      <td>NaN</td>\n",
       "      <td>NaN</td>\n",
       "      <td>NaN</td>\n",
       "      <td>NaN</td>\n",
       "      <td>NaN</td>\n",
       "      <td>NaN</td>\n",
       "      <td>NaN</td>\n",
       "    </tr>\n",
       "    <tr>\n",
       "      <th>1</th>\n",
       "      <td>Customer: Hi, Im interested in learning more a...</td>\n",
       "      <td>Salesman: Great! Im happy to help. Tell me, wh...</td>\n",
       "      <td>Customer: Ive been experiencing digestive issu...</td>\n",
       "      <td>Salesman: I understand how frustrating that ca...</td>\n",
       "      <td>Customer: Ive tried different products before,...</td>\n",
       "      <td>Salesman: I completely understand your skeptic...</td>\n",
       "      <td>Customer: Im concerned about the potential sid...</td>\n",
       "      <td>Salesman: Safety is our top priority. Our dige...</td>\n",
       "      <td>Customer: Im still unsure. Can you share some ...</td>\n",
       "      <td>Salesman: Absolutely! We have numerous success...</td>\n",
       "      <td>Customer: I appreciate your assistance. Ill ta...</td>\n",
       "      <td>Salesman: Of course, take all the time you nee...</td>\n",
       "      <td>NaN</td>\n",
       "      <td>NaN</td>\n",
       "      <td>NaN</td>\n",
       "      <td>NaN</td>\n",
       "      <td>NaN</td>\n",
       "      <td>NaN</td>\n",
       "      <td>NaN</td>\n",
       "      <td>NaN</td>\n",
       "    </tr>\n",
       "    <tr>\n",
       "      <th>2</th>\n",
       "      <td>Customer: Hi, Im interested in investing in th...</td>\n",
       "      <td>Salesman: Of course! Id be happy to assist you...</td>\n",
       "      <td>Customer: Ive had some bad experiences with fi...</td>\n",
       "      <td>Salesman: I understand your concerns. Trust is...</td>\n",
       "      <td>Customer: I have specific financial goals and ...</td>\n",
       "      <td>Salesman: Absolutely! Building a strong rappor...</td>\n",
       "      <td>Customer: Im not sure if I should invest in st...</td>\n",
       "      <td>Salesman: Lets discuss your investment horizon...</td>\n",
       "      <td>Customer: Ive heard about other investment fir...</td>\n",
       "      <td>Salesman: Great question! We differentiate our...</td>\n",
       "      <td>NaN</td>\n",
       "      <td>NaN</td>\n",
       "      <td>NaN</td>\n",
       "      <td>NaN</td>\n",
       "      <td>NaN</td>\n",
       "      <td>NaN</td>\n",
       "      <td>NaN</td>\n",
       "      <td>NaN</td>\n",
       "      <td>NaN</td>\n",
       "      <td>NaN</td>\n",
       "    </tr>\n",
       "  </tbody>\n",
       "</table>\n",
       "</div>"
      ],
      "text/plain": [
       "                                                   0  \\\n",
       "0  Customer: Hi, Im interested in purchasing a ne...   \n",
       "1  Customer: Hi, Im interested in learning more a...   \n",
       "2  Customer: Hi, Im interested in investing in th...   \n",
       "\n",
       "                                                   1  \\\n",
       "0  Salesman: Of course, Id be happy to assist you...   \n",
       "1  Salesman: Great! Im happy to help. Tell me, wh...   \n",
       "2  Salesman: Of course! Id be happy to assist you...   \n",
       "\n",
       "                                                   2  \\\n",
       "0  Customer: Im looking for a laptop that can han...   \n",
       "1  Customer: Ive been experiencing digestive issu...   \n",
       "2  Customer: Ive had some bad experiences with fi...   \n",
       "\n",
       "                                                   3  \\\n",
       "0  Salesman: Absolutely! In order to find the bes...   \n",
       "1  Salesman: I understand how frustrating that ca...   \n",
       "2  Salesman: I understand your concerns. Trust is...   \n",
       "\n",
       "                                                   4  \\\n",
       "0  Customer: Im considering upgrading my companys...   \n",
       "1  Customer: Ive tried different products before,...   \n",
       "2  Customer: I have specific financial goals and ...   \n",
       "\n",
       "                                                   5  \\\n",
       "0  Salesman: Thank you for considering us for you...   \n",
       "1  Salesman: I completely understand your skeptic...   \n",
       "2  Salesman: Absolutely! Building a strong rappor...   \n",
       "\n",
       "                                                   6  \\\n",
       "0  Customer: Im in the market for a new smartwatc...   \n",
       "1  Customer: Im concerned about the potential sid...   \n",
       "2  Customer: Im not sure if I should invest in st...   \n",
       "\n",
       "                                                   7  \\\n",
       "0  Salesman: Absolutely! Before we proceed, could...   \n",
       "1  Salesman: Safety is our top priority. Our dige...   \n",
       "2  Salesman: Lets discuss your investment horizon...   \n",
       "\n",
       "                                                   8  \\\n",
       "0  Customer: Im looking to buy a new printer for ...   \n",
       "1  Customer: Im still unsure. Can you share some ...   \n",
       "2  Customer: Ive heard about other investment fir...   \n",
       "\n",
       "                                                   9  \\\n",
       "0  Salesman: Certainly! To assist you in finding ...   \n",
       "1  Salesman: Absolutely! We have numerous success...   \n",
       "2  Salesman: Great question! We differentiate our...   \n",
       "\n",
       "                                                  10  \\\n",
       "0  Customer: Im interested in purchasing a gaming...   \n",
       "1  Customer: I appreciate your assistance. Ill ta...   \n",
       "2                                                NaN   \n",
       "\n",
       "                                                  11   12   13   14   15   16  \\\n",
       "0  Salesman: Great! Before I can recommend the id...  NaN  NaN  NaN  NaN  NaN   \n",
       "1  Salesman: Of course, take all the time you nee...  NaN  NaN  NaN  NaN  NaN   \n",
       "2                                                NaN  NaN  NaN  NaN  NaN  NaN   \n",
       "\n",
       "    17   18   19  \n",
       "0  NaN  NaN  NaN  \n",
       "1  NaN  NaN  NaN  \n",
       "2  NaN  NaN  NaN  "
      ]
     },
     "execution_count": 4,
     "metadata": {},
     "output_type": "execute_result"
    }
   ],
   "source": [
    "df = pd.read_csv(\"../data/raw/sales_conversations.csv\")\n",
    "\n",
    "df.head(3)"
   ]
  },
  {
   "cell_type": "code",
   "execution_count": 5,
   "id": "1a1c8be5-39e8-4c5b-abb5-c20a3b447976",
   "metadata": {},
   "outputs": [
    {
     "data": {
      "text/plain": [
       "(3412, 20)"
      ]
     },
     "execution_count": 5,
     "metadata": {},
     "output_type": "execute_result"
    }
   ],
   "source": [
    "df.shape"
   ]
  },
  {
   "cell_type": "code",
   "execution_count": 6,
   "id": "9f226182-e006-4a0f-915e-bc638d82149c",
   "metadata": {},
   "outputs": [
    {
     "name": "stdout",
     "output_type": "stream",
     "text": [
      "<class 'pandas.core.frame.DataFrame'>\n",
      "RangeIndex: 3412 entries, 0 to 3411\n",
      "Data columns (total 20 columns):\n",
      " #   Column  Non-Null Count  Dtype \n",
      "---  ------  --------------  ----- \n",
      " 0   0       3411 non-null   object\n",
      " 1   1       3411 non-null   object\n",
      " 2   2       3388 non-null   object\n",
      " 3   3       3388 non-null   object\n",
      " 4   4       3387 non-null   object\n",
      " 5   5       3387 non-null   object\n",
      " 6   6       3357 non-null   object\n",
      " 7   7       3357 non-null   object\n",
      " 8   8       2961 non-null   object\n",
      " 9   9       2961 non-null   object\n",
      " 10  10      2280 non-null   object\n",
      " 11  11      2280 non-null   object\n",
      " 12  12      1391 non-null   object\n",
      " 13  13      1391 non-null   object\n",
      " 14  14      733 non-null    object\n",
      " 15  15      733 non-null    object\n",
      " 16  16      16 non-null     object\n",
      " 17  17      16 non-null     object\n",
      " 18  18      3 non-null      object\n",
      " 19  19      3 non-null      object\n",
      "dtypes: object(20)\n",
      "memory usage: 533.2+ KB\n"
     ]
    }
   ],
   "source": [
    "df.info()"
   ]
  },
  {
   "cell_type": "code",
   "execution_count": 7,
   "id": "c118ba8d-6735-4fc4-a8c4-4709f9c0586d",
   "metadata": {},
   "outputs": [
    {
     "data": {
      "text/html": [
       "<div>\n",
       "<style scoped>\n",
       "    .dataframe tbody tr th:only-of-type {\n",
       "        vertical-align: middle;\n",
       "    }\n",
       "\n",
       "    .dataframe tbody tr th {\n",
       "        vertical-align: top;\n",
       "    }\n",
       "\n",
       "    .dataframe thead th {\n",
       "        text-align: right;\n",
       "    }\n",
       "</style>\n",
       "<table border=\"1\" class=\"dataframe\">\n",
       "  <thead>\n",
       "    <tr style=\"text-align: right;\">\n",
       "      <th></th>\n",
       "      <th>0</th>\n",
       "      <th>1</th>\n",
       "      <th>2</th>\n",
       "      <th>3</th>\n",
       "      <th>4</th>\n",
       "      <th>5</th>\n",
       "      <th>6</th>\n",
       "      <th>7</th>\n",
       "      <th>8</th>\n",
       "      <th>9</th>\n",
       "      <th>10</th>\n",
       "      <th>11</th>\n",
       "      <th>12</th>\n",
       "      <th>13</th>\n",
       "      <th>14</th>\n",
       "      <th>15</th>\n",
       "      <th>16</th>\n",
       "      <th>17</th>\n",
       "      <th>18</th>\n",
       "      <th>19</th>\n",
       "    </tr>\n",
       "  </thead>\n",
       "  <tbody>\n",
       "    <tr>\n",
       "      <th>count</th>\n",
       "      <td>3411</td>\n",
       "      <td>3411</td>\n",
       "      <td>3388</td>\n",
       "      <td>3388</td>\n",
       "      <td>3387</td>\n",
       "      <td>3387</td>\n",
       "      <td>3357</td>\n",
       "      <td>3357</td>\n",
       "      <td>2961</td>\n",
       "      <td>2961</td>\n",
       "      <td>2280</td>\n",
       "      <td>2280</td>\n",
       "      <td>1391</td>\n",
       "      <td>1391</td>\n",
       "      <td>733</td>\n",
       "      <td>733</td>\n",
       "      <td>16</td>\n",
       "      <td>16</td>\n",
       "      <td>3</td>\n",
       "      <td>3</td>\n",
       "    </tr>\n",
       "    <tr>\n",
       "      <th>unique</th>\n",
       "      <td>1817</td>\n",
       "      <td>3066</td>\n",
       "      <td>2931</td>\n",
       "      <td>3301</td>\n",
       "      <td>3118</td>\n",
       "      <td>3377</td>\n",
       "      <td>3117</td>\n",
       "      <td>3353</td>\n",
       "      <td>2816</td>\n",
       "      <td>2953</td>\n",
       "      <td>2166</td>\n",
       "      <td>2274</td>\n",
       "      <td>1336</td>\n",
       "      <td>1388</td>\n",
       "      <td>709</td>\n",
       "      <td>729</td>\n",
       "      <td>16</td>\n",
       "      <td>16</td>\n",
       "      <td>3</td>\n",
       "      <td>3</td>\n",
       "    </tr>\n",
       "    <tr>\n",
       "      <th>top</th>\n",
       "      <td>Customer: Im interested in investing in the st...</td>\n",
       "      <td>Salesman: If I understand correctly, you menti...</td>\n",
       "      <td>Customer: Im looking for a smartphone with a g...</td>\n",
       "      <td>Salesman: I understand how frustrating that mu...</td>\n",
       "      <td>Customer: Im not sure if this product will mee...</td>\n",
       "      <td>Salesman: Could you please tell me more about ...</td>\n",
       "      <td>Customer: Do you have any testimonials from sa...</td>\n",
       "      <td>Salesman: While digital communication tools of...</td>\n",
       "      <td>Customer: If I understand correctly, you are l...</td>\n",
       "      <td>Salesman: If I understand correctly, you are l...</td>\n",
       "      <td>Customer: Just to confirm, are you saying that...</td>\n",
       "      <td>Salesman: Different digital platforms cater to...</td>\n",
       "      <td>Customer: How can I stay updated with the late...</td>\n",
       "      <td>Salesman: Technology is constantly evolving, a...</td>\n",
       "      <td>Customer: How can technology enhance my sales ...</td>\n",
       "      <td>Salesman: By effectively utilizing technology ...</td>\n",
       "      <td>Customer: I understand the importance of socia...</td>\n",
       "      <td>Salesman: Im glad you see the value! Leveragin...</td>\n",
       "      <td>Customer: How do you communicate the benefits ...</td>\n",
       "      <td>Salesman: We employ persuasive language and st...</td>\n",
       "    </tr>\n",
       "    <tr>\n",
       "      <th>freq</th>\n",
       "      <td>124</td>\n",
       "      <td>61</td>\n",
       "      <td>24</td>\n",
       "      <td>62</td>\n",
       "      <td>36</td>\n",
       "      <td>3</td>\n",
       "      <td>18</td>\n",
       "      <td>2</td>\n",
       "      <td>17</td>\n",
       "      <td>3</td>\n",
       "      <td>12</td>\n",
       "      <td>6</td>\n",
       "      <td>12</td>\n",
       "      <td>4</td>\n",
       "      <td>5</td>\n",
       "      <td>4</td>\n",
       "      <td>1</td>\n",
       "      <td>1</td>\n",
       "      <td>1</td>\n",
       "      <td>1</td>\n",
       "    </tr>\n",
       "  </tbody>\n",
       "</table>\n",
       "</div>"
      ],
      "text/plain": [
       "                                                        0  \\\n",
       "count                                                3411   \n",
       "unique                                               1817   \n",
       "top     Customer: Im interested in investing in the st...   \n",
       "freq                                                  124   \n",
       "\n",
       "                                                        1  \\\n",
       "count                                                3411   \n",
       "unique                                               3066   \n",
       "top     Salesman: If I understand correctly, you menti...   \n",
       "freq                                                   61   \n",
       "\n",
       "                                                        2  \\\n",
       "count                                                3388   \n",
       "unique                                               2931   \n",
       "top     Customer: Im looking for a smartphone with a g...   \n",
       "freq                                                   24   \n",
       "\n",
       "                                                        3  \\\n",
       "count                                                3388   \n",
       "unique                                               3301   \n",
       "top     Salesman: I understand how frustrating that mu...   \n",
       "freq                                                   62   \n",
       "\n",
       "                                                        4  \\\n",
       "count                                                3387   \n",
       "unique                                               3118   \n",
       "top     Customer: Im not sure if this product will mee...   \n",
       "freq                                                   36   \n",
       "\n",
       "                                                        5  \\\n",
       "count                                                3387   \n",
       "unique                                               3377   \n",
       "top     Salesman: Could you please tell me more about ...   \n",
       "freq                                                    3   \n",
       "\n",
       "                                                        6  \\\n",
       "count                                                3357   \n",
       "unique                                               3117   \n",
       "top     Customer: Do you have any testimonials from sa...   \n",
       "freq                                                   18   \n",
       "\n",
       "                                                        7  \\\n",
       "count                                                3357   \n",
       "unique                                               3353   \n",
       "top     Salesman: While digital communication tools of...   \n",
       "freq                                                    2   \n",
       "\n",
       "                                                        8  \\\n",
       "count                                                2961   \n",
       "unique                                               2816   \n",
       "top     Customer: If I understand correctly, you are l...   \n",
       "freq                                                   17   \n",
       "\n",
       "                                                        9  \\\n",
       "count                                                2961   \n",
       "unique                                               2953   \n",
       "top     Salesman: If I understand correctly, you are l...   \n",
       "freq                                                    3   \n",
       "\n",
       "                                                       10  \\\n",
       "count                                                2280   \n",
       "unique                                               2166   \n",
       "top     Customer: Just to confirm, are you saying that...   \n",
       "freq                                                   12   \n",
       "\n",
       "                                                       11  \\\n",
       "count                                                2280   \n",
       "unique                                               2274   \n",
       "top     Salesman: Different digital platforms cater to...   \n",
       "freq                                                    6   \n",
       "\n",
       "                                                       12  \\\n",
       "count                                                1391   \n",
       "unique                                               1336   \n",
       "top     Customer: How can I stay updated with the late...   \n",
       "freq                                                   12   \n",
       "\n",
       "                                                       13  \\\n",
       "count                                                1391   \n",
       "unique                                               1388   \n",
       "top     Salesman: Technology is constantly evolving, a...   \n",
       "freq                                                    4   \n",
       "\n",
       "                                                       14  \\\n",
       "count                                                 733   \n",
       "unique                                                709   \n",
       "top     Customer: How can technology enhance my sales ...   \n",
       "freq                                                    5   \n",
       "\n",
       "                                                       15  \\\n",
       "count                                                 733   \n",
       "unique                                                729   \n",
       "top     Salesman: By effectively utilizing technology ...   \n",
       "freq                                                    4   \n",
       "\n",
       "                                                       16  \\\n",
       "count                                                  16   \n",
       "unique                                                 16   \n",
       "top     Customer: I understand the importance of socia...   \n",
       "freq                                                    1   \n",
       "\n",
       "                                                       17  \\\n",
       "count                                                  16   \n",
       "unique                                                 16   \n",
       "top     Salesman: Im glad you see the value! Leveragin...   \n",
       "freq                                                    1   \n",
       "\n",
       "                                                       18  \\\n",
       "count                                                   3   \n",
       "unique                                                  3   \n",
       "top     Customer: How do you communicate the benefits ...   \n",
       "freq                                                    1   \n",
       "\n",
       "                                                       19  \n",
       "count                                                   3  \n",
       "unique                                                  3  \n",
       "top     Salesman: We employ persuasive language and st...  \n",
       "freq                                                    1  "
      ]
     },
     "execution_count": 7,
     "metadata": {},
     "output_type": "execute_result"
    }
   ],
   "source": [
    "df.describe()"
   ]
  },
  {
   "cell_type": "code",
   "execution_count": 8,
   "id": "c7910443-a1d3-4a2f-88b7-f6675b677166",
   "metadata": {},
   "outputs": [
    {
     "data": {
      "text/plain": [
       "0        1\n",
       "1        1\n",
       "2       24\n",
       "3       24\n",
       "4       25\n",
       "5       25\n",
       "6       55\n",
       "7       55\n",
       "8      451\n",
       "9      451\n",
       "10    1132\n",
       "11    1132\n",
       "12    2021\n",
       "13    2021\n",
       "14    2679\n",
       "15    2679\n",
       "16    3396\n",
       "17    3396\n",
       "18    3409\n",
       "19    3409\n",
       "dtype: int64"
      ]
     },
     "execution_count": 8,
     "metadata": {},
     "output_type": "execute_result"
    }
   ],
   "source": [
    "# Check for null values - It will be more telling after we reshape the dataset\n",
    "df.isnull().sum()"
   ]
  },
  {
   "cell_type": "markdown",
   "id": "1bed86f1-0a04-405e-b6d9-b66ef36f627f",
   "metadata": {},
   "source": [
    "___"
   ]
  },
  {
   "cell_type": "markdown",
   "id": "da913deb-ee7b-42bb-bcf7-b3191eaf078e",
   "metadata": {},
   "source": [
    "## 2. Reshaping the Data for Sequential Analysis\n",
    "This section involves making each row represent a single conversation snippet/turn and dissecting features such as speaker and text.\n",
    "* Partially contains preprocessing"
   ]
  },
  {
   "cell_type": "code",
   "execution_count": 9,
   "id": "f72d1afe-b246-4cad-8285-ceafeb781d35",
   "metadata": {},
   "outputs": [
    {
     "data": {
      "text/html": [
       "<div>\n",
       "<style scoped>\n",
       "    .dataframe tbody tr th:only-of-type {\n",
       "        vertical-align: middle;\n",
       "    }\n",
       "\n",
       "    .dataframe tbody tr th {\n",
       "        vertical-align: top;\n",
       "    }\n",
       "\n",
       "    .dataframe thead th {\n",
       "        text-align: right;\n",
       "    }\n",
       "</style>\n",
       "<table border=\"1\" class=\"dataframe\">\n",
       "  <thead>\n",
       "    <tr style=\"text-align: right;\">\n",
       "      <th></th>\n",
       "      <th>0</th>\n",
       "      <th>1</th>\n",
       "      <th>2</th>\n",
       "      <th>3</th>\n",
       "      <th>4</th>\n",
       "      <th>5</th>\n",
       "      <th>6</th>\n",
       "      <th>7</th>\n",
       "      <th>8</th>\n",
       "      <th>9</th>\n",
       "      <th>10</th>\n",
       "      <th>11</th>\n",
       "      <th>12</th>\n",
       "      <th>13</th>\n",
       "      <th>14</th>\n",
       "      <th>15</th>\n",
       "      <th>16</th>\n",
       "      <th>17</th>\n",
       "      <th>18</th>\n",
       "      <th>19</th>\n",
       "    </tr>\n",
       "  </thead>\n",
       "  <tbody>\n",
       "    <tr>\n",
       "      <th>0</th>\n",
       "      <td>Customer: Hi, Im interested in purchasing a ne...</td>\n",
       "      <td>Salesman: Of course, Id be happy to assist you...</td>\n",
       "      <td>Customer: Im looking for a laptop that can han...</td>\n",
       "      <td>Salesman: Absolutely! In order to find the bes...</td>\n",
       "      <td>Customer: Im considering upgrading my companys...</td>\n",
       "      <td>Salesman: Thank you for considering us for you...</td>\n",
       "      <td>Customer: Im in the market for a new smartwatc...</td>\n",
       "      <td>Salesman: Absolutely! Before we proceed, could...</td>\n",
       "      <td>Customer: Im looking to buy a new printer for ...</td>\n",
       "      <td>Salesman: Certainly! To assist you in finding ...</td>\n",
       "      <td>Customer: Im interested in purchasing a gaming...</td>\n",
       "      <td>Salesman: Great! Before I can recommend the id...</td>\n",
       "      <td>NaN</td>\n",
       "      <td>NaN</td>\n",
       "      <td>NaN</td>\n",
       "      <td>NaN</td>\n",
       "      <td>NaN</td>\n",
       "      <td>NaN</td>\n",
       "      <td>NaN</td>\n",
       "      <td>NaN</td>\n",
       "    </tr>\n",
       "    <tr>\n",
       "      <th>1</th>\n",
       "      <td>Customer: Hi, Im interested in learning more a...</td>\n",
       "      <td>Salesman: Great! Im happy to help. Tell me, wh...</td>\n",
       "      <td>Customer: Ive been experiencing digestive issu...</td>\n",
       "      <td>Salesman: I understand how frustrating that ca...</td>\n",
       "      <td>Customer: Ive tried different products before,...</td>\n",
       "      <td>Salesman: I completely understand your skeptic...</td>\n",
       "      <td>Customer: Im concerned about the potential sid...</td>\n",
       "      <td>Salesman: Safety is our top priority. Our dige...</td>\n",
       "      <td>Customer: Im still unsure. Can you share some ...</td>\n",
       "      <td>Salesman: Absolutely! We have numerous success...</td>\n",
       "      <td>Customer: I appreciate your assistance. Ill ta...</td>\n",
       "      <td>Salesman: Of course, take all the time you nee...</td>\n",
       "      <td>NaN</td>\n",
       "      <td>NaN</td>\n",
       "      <td>NaN</td>\n",
       "      <td>NaN</td>\n",
       "      <td>NaN</td>\n",
       "      <td>NaN</td>\n",
       "      <td>NaN</td>\n",
       "      <td>NaN</td>\n",
       "    </tr>\n",
       "    <tr>\n",
       "      <th>2</th>\n",
       "      <td>Customer: Hi, Im interested in investing in th...</td>\n",
       "      <td>Salesman: Of course! Id be happy to assist you...</td>\n",
       "      <td>Customer: Ive had some bad experiences with fi...</td>\n",
       "      <td>Salesman: I understand your concerns. Trust is...</td>\n",
       "      <td>Customer: I have specific financial goals and ...</td>\n",
       "      <td>Salesman: Absolutely! Building a strong rappor...</td>\n",
       "      <td>Customer: Im not sure if I should invest in st...</td>\n",
       "      <td>Salesman: Lets discuss your investment horizon...</td>\n",
       "      <td>Customer: Ive heard about other investment fir...</td>\n",
       "      <td>Salesman: Great question! We differentiate our...</td>\n",
       "      <td>NaN</td>\n",
       "      <td>NaN</td>\n",
       "      <td>NaN</td>\n",
       "      <td>NaN</td>\n",
       "      <td>NaN</td>\n",
       "      <td>NaN</td>\n",
       "      <td>NaN</td>\n",
       "      <td>NaN</td>\n",
       "      <td>NaN</td>\n",
       "      <td>NaN</td>\n",
       "    </tr>\n",
       "  </tbody>\n",
       "</table>\n",
       "</div>"
      ],
      "text/plain": [
       "                                                   0  \\\n",
       "0  Customer: Hi, Im interested in purchasing a ne...   \n",
       "1  Customer: Hi, Im interested in learning more a...   \n",
       "2  Customer: Hi, Im interested in investing in th...   \n",
       "\n",
       "                                                   1  \\\n",
       "0  Salesman: Of course, Id be happy to assist you...   \n",
       "1  Salesman: Great! Im happy to help. Tell me, wh...   \n",
       "2  Salesman: Of course! Id be happy to assist you...   \n",
       "\n",
       "                                                   2  \\\n",
       "0  Customer: Im looking for a laptop that can han...   \n",
       "1  Customer: Ive been experiencing digestive issu...   \n",
       "2  Customer: Ive had some bad experiences with fi...   \n",
       "\n",
       "                                                   3  \\\n",
       "0  Salesman: Absolutely! In order to find the bes...   \n",
       "1  Salesman: I understand how frustrating that ca...   \n",
       "2  Salesman: I understand your concerns. Trust is...   \n",
       "\n",
       "                                                   4  \\\n",
       "0  Customer: Im considering upgrading my companys...   \n",
       "1  Customer: Ive tried different products before,...   \n",
       "2  Customer: I have specific financial goals and ...   \n",
       "\n",
       "                                                   5  \\\n",
       "0  Salesman: Thank you for considering us for you...   \n",
       "1  Salesman: I completely understand your skeptic...   \n",
       "2  Salesman: Absolutely! Building a strong rappor...   \n",
       "\n",
       "                                                   6  \\\n",
       "0  Customer: Im in the market for a new smartwatc...   \n",
       "1  Customer: Im concerned about the potential sid...   \n",
       "2  Customer: Im not sure if I should invest in st...   \n",
       "\n",
       "                                                   7  \\\n",
       "0  Salesman: Absolutely! Before we proceed, could...   \n",
       "1  Salesman: Safety is our top priority. Our dige...   \n",
       "2  Salesman: Lets discuss your investment horizon...   \n",
       "\n",
       "                                                   8  \\\n",
       "0  Customer: Im looking to buy a new printer for ...   \n",
       "1  Customer: Im still unsure. Can you share some ...   \n",
       "2  Customer: Ive heard about other investment fir...   \n",
       "\n",
       "                                                   9  \\\n",
       "0  Salesman: Certainly! To assist you in finding ...   \n",
       "1  Salesman: Absolutely! We have numerous success...   \n",
       "2  Salesman: Great question! We differentiate our...   \n",
       "\n",
       "                                                  10  \\\n",
       "0  Customer: Im interested in purchasing a gaming...   \n",
       "1  Customer: I appreciate your assistance. Ill ta...   \n",
       "2                                                NaN   \n",
       "\n",
       "                                                  11   12   13   14   15   16  \\\n",
       "0  Salesman: Great! Before I can recommend the id...  NaN  NaN  NaN  NaN  NaN   \n",
       "1  Salesman: Of course, take all the time you nee...  NaN  NaN  NaN  NaN  NaN   \n",
       "2                                                NaN  NaN  NaN  NaN  NaN  NaN   \n",
       "\n",
       "    17   18   19  \n",
       "0  NaN  NaN  NaN  \n",
       "1  NaN  NaN  NaN  \n",
       "2  NaN  NaN  NaN  "
      ]
     },
     "execution_count": 9,
     "metadata": {},
     "output_type": "execute_result"
    }
   ],
   "source": [
    "df = pd.read_csv(\"../data/raw/sales_conversations.csv\")\n",
    "df.head(3)"
   ]
  },
  {
   "cell_type": "code",
   "execution_count": 10,
   "id": "27e12dc1-a90d-4357-afc1-745680d7e184",
   "metadata": {},
   "outputs": [],
   "source": [
    "# Add a unique ID to each convo in the original df to keep the texts grouped by convo after reshaping\n",
    "df['conversation_id'] = range(len(df))"
   ]
  },
  {
   "cell_type": "code",
   "execution_count": 11,
   "id": "b182a96b-0833-4dd0-b10c-5bdb09655861",
   "metadata": {},
   "outputs": [
    {
     "data": {
      "text/plain": [
       "(68240, 3)"
      ]
     },
     "execution_count": 11,
     "metadata": {},
     "output_type": "execute_result"
    }
   ],
   "source": [
    "# Separate snippets into rows, keeping conversation_id as an identifier\n",
    "df_melted = df.melt(id_vars=['conversation_id'], var_name=\"turn\", value_name=\"snippet\")\n",
    "df_melted['turn'] = pd.to_numeric(df_melted['turn'], errors='coerce')\n",
    "df_melted.shape"
   ]
  },
  {
   "cell_type": "code",
   "execution_count": 12,
   "id": "154d28f1-1fe4-4986-8e3f-a62d3d0a004d",
   "metadata": {},
   "outputs": [
    {
     "data": {
      "text/html": [
       "<div>\n",
       "<style scoped>\n",
       "    .dataframe tbody tr th:only-of-type {\n",
       "        vertical-align: middle;\n",
       "    }\n",
       "\n",
       "    .dataframe tbody tr th {\n",
       "        vertical-align: top;\n",
       "    }\n",
       "\n",
       "    .dataframe thead th {\n",
       "        text-align: right;\n",
       "    }\n",
       "</style>\n",
       "<table border=\"1\" class=\"dataframe\">\n",
       "  <thead>\n",
       "    <tr style=\"text-align: right;\">\n",
       "      <th></th>\n",
       "      <th>conversation_id</th>\n",
       "      <th>turn</th>\n",
       "      <th>snippet</th>\n",
       "    </tr>\n",
       "  </thead>\n",
       "  <tbody>\n",
       "    <tr>\n",
       "      <th>0</th>\n",
       "      <td>0</td>\n",
       "      <td>0</td>\n",
       "      <td>Customer: Hi, Im interested in purchasing a ne...</td>\n",
       "    </tr>\n",
       "    <tr>\n",
       "      <th>1</th>\n",
       "      <td>1</td>\n",
       "      <td>0</td>\n",
       "      <td>Customer: Hi, Im interested in learning more a...</td>\n",
       "    </tr>\n",
       "    <tr>\n",
       "      <th>2</th>\n",
       "      <td>2</td>\n",
       "      <td>0</td>\n",
       "      <td>Customer: Hi, Im interested in investing in th...</td>\n",
       "    </tr>\n",
       "    <tr>\n",
       "      <th>3</th>\n",
       "      <td>3</td>\n",
       "      <td>0</td>\n",
       "      <td>Customer: Hello, Im interested in your financi...</td>\n",
       "    </tr>\n",
       "    <tr>\n",
       "      <th>4</th>\n",
       "      <td>4</td>\n",
       "      <td>0</td>\n",
       "      <td>Customer: Hi, Im interested in purchasing a ne...</td>\n",
       "    </tr>\n",
       "  </tbody>\n",
       "</table>\n",
       "</div>"
      ],
      "text/plain": [
       "   conversation_id  turn                                            snippet\n",
       "0                0     0  Customer: Hi, Im interested in purchasing a ne...\n",
       "1                1     0  Customer: Hi, Im interested in learning more a...\n",
       "2                2     0  Customer: Hi, Im interested in investing in th...\n",
       "3                3     0  Customer: Hello, Im interested in your financi...\n",
       "4                4     0  Customer: Hi, Im interested in purchasing a ne..."
      ]
     },
     "execution_count": 12,
     "metadata": {},
     "output_type": "execute_result"
    }
   ],
   "source": [
    "df_melted.head()"
   ]
  },
  {
   "cell_type": "code",
   "execution_count": 13,
   "id": "6cf0b562-4b47-4ce3-bf7a-1fddb03c9aff",
   "metadata": {},
   "outputs": [
    {
     "data": {
      "text/plain": [
       "conversation_id\n",
       "0       20\n",
       "2267    20\n",
       "2269    20\n",
       "2270    20\n",
       "2271    20\n",
       "        ..\n",
       "1139    20\n",
       "1140    20\n",
       "1141    20\n",
       "1142    20\n",
       "3411    20\n",
       "Name: count, Length: 3412, dtype: int64"
      ]
     },
     "execution_count": 13,
     "metadata": {},
     "output_type": "execute_result"
    }
   ],
   "source": [
    "# Check that it still has conversation groupings (convos have a max of 20 turns as the original df had 20 columns)\n",
    "df_melted.value_counts('conversation_id')"
   ]
  },
  {
   "cell_type": "code",
   "execution_count": 14,
   "id": "4565b6ed-6894-41ac-aeb9-2ac5dbfddeb8",
   "metadata": {},
   "outputs": [
    {
     "data": {
      "text/plain": [
       "(41854, 3)"
      ]
     },
     "execution_count": 14,
     "metadata": {},
     "output_type": "execute_result"
    }
   ],
   "source": [
    "# Drop NaN values (placeholder cells that were at the end of conversations to keep the original df size)\n",
    "df_melted = df_melted.dropna()\n",
    "df_melted.shape"
   ]
  },
  {
   "cell_type": "markdown",
   "id": "2101e55d-9d01-40c1-a92c-c6a5e704d0d9",
   "metadata": {},
   "source": [
    "Some conversations have fewer turns, as shown by the decrease in count after dropping NaNs."
   ]
  },
  {
   "cell_type": "code",
   "execution_count": 15,
   "id": "ed927510-deac-426d-80c6-1059497aea3d",
   "metadata": {},
   "outputs": [
    {
     "data": {
      "text/plain": [
       "conversation_id\n",
       "3238    20\n",
       "2959    20\n",
       "978     20\n",
       "3034    18\n",
       "996     18\n",
       "        ..\n",
       "2028     2\n",
       "1873     2\n",
       "3154     2\n",
       "3070     2\n",
       "1962     2\n",
       "Name: count, Length: 3411, dtype: int64"
      ]
     },
     "execution_count": 15,
     "metadata": {},
     "output_type": "execute_result"
    }
   ],
   "source": [
    "convo_counts = df_melted['conversation_id'].value_counts() # num snippets per convo\n",
    "convo_counts"
   ]
  },
  {
   "cell_type": "code",
   "execution_count": 16,
   "id": "c11db1c8-6748-4039-9812-0d9c752a29d8",
   "metadata": {},
   "outputs": [
    {
     "data": {
      "image/png": "[encoded data removed]",
      "text/plain": [
       "<Figure size 400x200 with 1 Axes>"
      ]
     },
     "metadata": {},
     "output_type": "display_data"
    }
   ],
   "source": [
    "plt.figure(figsize=(4, 2))\n",
    "plt.hist(convo_counts, bins=20, edgecolor='k')  # Adjust bins as needed\n",
    "plt.xlabel('Number of Snippets per Conversation')\n",
    "plt.ylabel('Number of Conversations')\n",
    "plt.title('Distribution of Conversation Lengths')\n",
    "plt.show()"
   ]
  },
  {
   "cell_type": "code",
   "execution_count": 17,
   "id": "b0b1441a-3e06-40ca-8faa-39a53b61142f",
   "metadata": {},
   "outputs": [
    {
     "name": "stdout",
     "output_type": "stream",
     "text": [
      "Number of rows without a colon: 0\n"
     ]
    }
   ],
   "source": [
    "# Check if there are any rows where a snippet doesn't contain a colon\n",
    "no_colon_rows = df_melted[~df_melted['snippet'].str.contains(':')]\n",
    "print(f\"Number of rows without a colon: {no_colon_rows.shape[0]}\")"
   ]
  },
  {
   "cell_type": "code",
   "execution_count": 18,
   "id": "ca67cf09-a2a6-4481-aeac-1dfa767f7a21",
   "metadata": {},
   "outputs": [
    {
     "data": {
      "text/plain": [
       "snippet\n",
       "<class 'str'>    41854\n",
       "Name: count, dtype: int64"
      ]
     },
     "execution_count": 18,
     "metadata": {},
     "output_type": "execute_result"
    }
   ],
   "source": [
    "element_types = df_melted['snippet'].apply(type)\n",
    "element_types.value_counts()"
   ]
  },
  {
   "cell_type": "code",
   "execution_count": 19,
   "id": "e9aca207-85bd-4594-809e-ab9eb03e5c83",
   "metadata": {},
   "outputs": [],
   "source": [
    "# Remove any leading or trailing whitespace\n",
    "df_melted['snippet'] = df_melted['snippet'].str.strip()"
   ]
  },
  {
   "cell_type": "code",
   "execution_count": 20,
   "id": "c25e5eb6-b410-47d2-866b-4ce779644701",
   "metadata": {},
   "outputs": [],
   "source": [
    "# Separate the speaker and text from each snippet\n",
    "\n",
    "# error - it splits if ':' is present, but the above code shows that it's always present and always a str?\n",
    "# df_melted[['Speaker', 'Text']] = df_melted['Snippet'].str.split(':', 1, expand=True)\n",
    "\n",
    "df_melted[['speaker', 'text']] = df_melted['snippet'].apply(\n",
    "    lambda x: x.split(\":\", 1) if \":\" in x else [x, None] # to handle rows with unexpected formatting\n",
    ").apply(pd.Series)"
   ]
  },
  {
   "cell_type": "code",
   "execution_count": 21,
   "id": "484ac29a-4e03-4f78-a21c-e501a40c1f41",
   "metadata": {},
   "outputs": [
    {
     "data": {
      "text/html": [
       "<div>\n",
       "<style scoped>\n",
       "    .dataframe tbody tr th:only-of-type {\n",
       "        vertical-align: middle;\n",
       "    }\n",
       "\n",
       "    .dataframe tbody tr th {\n",
       "        vertical-align: top;\n",
       "    }\n",
       "\n",
       "    .dataframe thead th {\n",
       "        text-align: right;\n",
       "    }\n",
       "</style>\n",
       "<table border=\"1\" class=\"dataframe\">\n",
       "  <thead>\n",
       "    <tr style=\"text-align: right;\">\n",
       "      <th></th>\n",
       "      <th>conversation_id</th>\n",
       "      <th>turn</th>\n",
       "      <th>snippet</th>\n",
       "      <th>speaker</th>\n",
       "      <th>text</th>\n",
       "    </tr>\n",
       "  </thead>\n",
       "  <tbody>\n",
       "    <tr>\n",
       "      <th>0</th>\n",
       "      <td>0</td>\n",
       "      <td>0</td>\n",
       "      <td>Customer: Hi, Im interested in purchasing a ne...</td>\n",
       "      <td>Customer</td>\n",
       "      <td>Hi, Im interested in purchasing a new smartph...</td>\n",
       "    </tr>\n",
       "    <tr>\n",
       "      <th>1</th>\n",
       "      <td>1</td>\n",
       "      <td>0</td>\n",
       "      <td>Customer: Hi, Im interested in learning more a...</td>\n",
       "      <td>Customer</td>\n",
       "      <td>Hi, Im interested in learning more about your...</td>\n",
       "    </tr>\n",
       "    <tr>\n",
       "      <th>2</th>\n",
       "      <td>2</td>\n",
       "      <td>0</td>\n",
       "      <td>Customer: Hi, Im interested in investing in th...</td>\n",
       "      <td>Customer</td>\n",
       "      <td>Hi, Im interested in investing in the stock m...</td>\n",
       "    </tr>\n",
       "    <tr>\n",
       "      <th>3</th>\n",
       "      <td>3</td>\n",
       "      <td>0</td>\n",
       "      <td>Customer: Hello, Im interested in your financi...</td>\n",
       "      <td>Customer</td>\n",
       "      <td>Hello, Im interested in your financial planni...</td>\n",
       "    </tr>\n",
       "    <tr>\n",
       "      <th>4</th>\n",
       "      <td>4</td>\n",
       "      <td>0</td>\n",
       "      <td>Customer: Hi, Im interested in purchasing a ne...</td>\n",
       "      <td>Customer</td>\n",
       "      <td>Hi, Im interested in purchasing a new laptop....</td>\n",
       "    </tr>\n",
       "  </tbody>\n",
       "</table>\n",
       "</div>"
      ],
      "text/plain": [
       "   conversation_id  turn                                            snippet  \\\n",
       "0                0     0  Customer: Hi, Im interested in purchasing a ne...   \n",
       "1                1     0  Customer: Hi, Im interested in learning more a...   \n",
       "2                2     0  Customer: Hi, Im interested in investing in th...   \n",
       "3                3     0  Customer: Hello, Im interested in your financi...   \n",
       "4                4     0  Customer: Hi, Im interested in purchasing a ne...   \n",
       "\n",
       "    speaker                                               text  \n",
       "0  Customer   Hi, Im interested in purchasing a new smartph...  \n",
       "1  Customer   Hi, Im interested in learning more about your...  \n",
       "2  Customer   Hi, Im interested in investing in the stock m...  \n",
       "3  Customer   Hello, Im interested in your financial planni...  \n",
       "4  Customer   Hi, Im interested in purchasing a new laptop....  "
      ]
     },
     "execution_count": 21,
     "metadata": {},
     "output_type": "execute_result"
    }
   ],
   "source": [
    "df_melted.head()"
   ]
  },
  {
   "cell_type": "code",
   "execution_count": 22,
   "id": "80396859-d216-4ae4-8edc-380bfabb583e",
   "metadata": {},
   "outputs": [
    {
     "data": {
      "text/plain": [
       "Index(['conversation_id', 'turn', 'speaker', 'text'], dtype='object')"
      ]
     },
     "execution_count": 22,
     "metadata": {},
     "output_type": "execute_result"
    }
   ],
   "source": [
    "# Remove redundant column\n",
    "df_melted = df_melted.drop(columns=['snippet'])\n",
    "df_melted.columns"
   ]
  },
  {
   "cell_type": "code",
   "execution_count": 26,
   "id": "9b95a6d3-7873-4711-a59a-502c2af011db",
   "metadata": {},
   "outputs": [],
   "source": [
    "# Save the reshaped, processed data\n",
    "# df_melted.to_csv(\"../data/processed/sequential_convos.csv\", index=False)"
   ]
  },
  {
   "cell_type": "code",
   "execution_count": 27,
   "id": "e9f68e78-7aa7-4184-8e75-672d212ddc81",
   "metadata": {},
   "outputs": [
    {
     "data": {
      "text/plain": [
       "conversation_id     int64\n",
       "turn                int64\n",
       "speaker            object\n",
       "text               object\n",
       "dtype: object"
      ]
     },
     "execution_count": 27,
     "metadata": {},
     "output_type": "execute_result"
    }
   ],
   "source": [
    "# Column types\n",
    "df_melted.dtypes"
   ]
  },
  {
   "cell_type": "code",
   "execution_count": 28,
   "id": "529f133d-eaf9-4a5f-8e0f-2ae569929117",
   "metadata": {},
   "outputs": [
    {
     "data": {
      "text/plain": [
       "conversation_id    0\n",
       "turn               0\n",
       "speaker            0\n",
       "text               0\n",
       "dtype: int64"
      ]
     },
     "execution_count": 28,
     "metadata": {},
     "output_type": "execute_result"
    }
   ],
   "source": [
    "# Missing values\n",
    "df_melted.isnull().sum()"
   ]
  },
  {
   "cell_type": "code",
   "execution_count": 29,
   "id": "1b9387d1-a9b9-4ca6-bee6-a077dc480d72",
   "metadata": {},
   "outputs": [
    {
     "data": {
      "text/plain": [
       "(41854, 4)"
      ]
     },
     "execution_count": 29,
     "metadata": {},
     "output_type": "execute_result"
    }
   ],
   "source": [
    "# Final dimensions of reshaped df\n",
    "df_melted.shape"
   ]
  },
  {
   "cell_type": "markdown",
   "id": "ff325957-a384-4435-9248-a1f0df9281ef",
   "metadata": {},
   "source": [
    "___"
   ]
  },
  {
   "cell_type": "markdown",
   "id": "6bcfe843-e39e-4a17-8509-ae411bcfc978",
   "metadata": {},
   "source": [
    "## 3. Conversation Analysis"
   ]
  },
  {
   "cell_type": "code",
   "execution_count": 30,
   "id": "5901b376-9e77-4790-950f-422ab55f2b5a",
   "metadata": {},
   "outputs": [
    {
     "name": "stdout",
     "output_type": "stream",
     "text": [
      "Number of Conversations: 3411\n"
     ]
    }
   ],
   "source": [
    "# Number of conversations\n",
    "print(f\"Number of Conversations: {df_melted['conversation_id'].nunique()}\")"
   ]
  },
  {
   "cell_type": "code",
   "execution_count": 31,
   "id": "f56f143b-db74-4fce-8789-c0dccc195664",
   "metadata": {},
   "outputs": [
    {
     "name": "stdout",
     "output_type": "stream",
     "text": [
      "Min text length: 59.0\n",
      "Max text length: 397.4\n",
      "Average text length: 146.42\n"
     ]
    }
   ],
   "source": [
    "# Average text length per convo\n",
    "mean_text_lens = df_melted.groupby('conversation_id')['text'].apply(lambda x: x.str.len().mean())\n",
    "print(f\"Min text length: {mean_text_lens.min()}\")\n",
    "print(f\"Max text length: {mean_text_lens.max()}\")\n",
    "print(f\"Average text length: {round(mean_text_lens.mean(), 2)}\")"
   ]
  },
  {
   "cell_type": "code",
   "execution_count": 32,
   "id": "592d78cf-168f-464e-9212-880d0dc413b9",
   "metadata": {},
   "outputs": [
    {
     "data": {
      "image/png": "[encoded data removed]",
      "text/plain": [
       "<Figure size 500x300 with 1 Axes>"
      ]
     },
     "metadata": {},
     "output_type": "display_data"
    }
   ],
   "source": [
    "# Histogram of Average Text Lengths per Convo\n",
    "plt.figure(figsize=(5, 3))\n",
    "plt.hist(mean_text_lens, bins=20, edgecolor='k', alpha=0.7)\n",
    "plt.xlabel(\"Average Text Length per Conversation\")\n",
    "plt.ylabel(\"Number of Conversations\")\n",
    "plt.title(\"Distribution of Average Text Length per Conversation\")\n",
    "plt.show()"
   ]
  },
  {
   "cell_type": "code",
   "execution_count": 35,
   "id": "cd92883b-f39e-4c14-89c6-2cdcfc247290",
   "metadata": {
    "scrolled": true
   },
   "outputs": [
    {
     "data": {
      "text/plain": [
       "conversation_id\n",
       "0    12\n",
       "1    12\n",
       "2    10\n",
       "3    10\n",
       "4    16\n",
       "dtype: int64"
      ]
     },
     "execution_count": 35,
     "metadata": {},
     "output_type": "execute_result"
    }
   ],
   "source": [
    "# Conversation length: The number of turns per convo\n",
    "turns_per_convo = df_melted.groupby('conversation_id').size()\n",
    "turns_per_convo.head()"
   ]
  },
  {
   "cell_type": "code",
   "execution_count": 36,
   "id": "cf08f4e4-9565-4e9d-b69e-bf365c3a9b6c",
   "metadata": {},
   "outputs": [
    {
     "data": {
      "text/plain": [
       "count    3411.000000\n",
       "mean       12.270302\n",
       "std         2.814853\n",
       "min         2.000000\n",
       "25%        10.000000\n",
       "50%        12.000000\n",
       "75%        14.000000\n",
       "max        20.000000\n",
       "dtype: float64"
      ]
     },
     "execution_count": 36,
     "metadata": {},
     "output_type": "execute_result"
    }
   ],
   "source": [
    "# Average conversation length, along with other basic stats\n",
    "turns_per_convo.describe()"
   ]
  },
  {
   "cell_type": "code",
   "execution_count": 37,
   "id": "45212e08-f25e-4a75-95d5-f2d61881acad",
   "metadata": {},
   "outputs": [
    {
     "data": {
      "text/plain": [
       "conversation_id\n",
       "683     2\n",
       "1101    2\n",
       "1137    2\n",
       "1214    2\n",
       "1215    2\n",
       "1231    2\n",
       "1873    2\n",
       "1877    2\n",
       "1921    2\n",
       "1962    2\n",
       "1981    2\n",
       "2006    2\n",
       "2028    2\n",
       "2038    2\n",
       "2231    2\n",
       "2311    2\n",
       "2712    2\n",
       "2805    2\n",
       "3007    2\n",
       "3070    2\n",
       "3096    2\n",
       "3154    2\n",
       "3198    2\n",
       "dtype: int64"
      ]
     },
     "execution_count": 37,
     "metadata": {},
     "output_type": "execute_result"
    }
   ],
   "source": [
    "# Outliers in terms of turns (according to the IQR method)\n",
    "\n",
    "Q1 = turns_per_convo.quantile(0.25)\n",
    "Q3 = turns_per_convo.quantile(0.75)\n",
    "IQR = Q3 - Q1\n",
    "\n",
    "lower_bound = Q1 - 1.5 * IQR\n",
    "upper_bound = Q3 + 1.5 * IQR\n",
    "\n",
    "outliers = turns_per_convo[(turns_per_convo < lower_bound) | (turns_per_convo > upper_bound)]\n",
    "\n",
    "# Outlier conversations\n",
    "outliers"
   ]
  },
  {
   "cell_type": "code",
   "execution_count": 38,
   "id": "ce181cb0-acd0-4343-ac95-090fb5b42271",
   "metadata": {},
   "outputs": [
    {
     "data": {
      "text/plain": [
       "23"
      ]
     },
     "execution_count": 38,
     "metadata": {},
     "output_type": "execute_result"
    }
   ],
   "source": [
    "# Number of outliers\n",
    "len(outliers)"
   ]
  },
  {
   "cell_type": "code",
   "execution_count": 39,
   "id": "cea4bcc6-1cd2-4216-b1e3-467858499335",
   "metadata": {},
   "outputs": [
    {
     "data": {
      "text/plain": [
       "0"
      ]
     },
     "execution_count": 39,
     "metadata": {},
     "output_type": "execute_result"
    }
   ],
   "source": [
    "# Number of abnormally long convos\n",
    "len(turns_per_convo[(turns_per_convo > upper_bound)])"
   ]
  },
  {
   "cell_type": "code",
   "execution_count": 40,
   "id": "9e85093c-a484-4f33-8aa0-c6a10adfa392",
   "metadata": {},
   "outputs": [
    {
     "data": {
      "text/plain": [
       "23"
      ]
     },
     "execution_count": 40,
     "metadata": {},
     "output_type": "execute_result"
    }
   ],
   "source": [
    "# Number of abnormally short convos - These are all of the outliers\n",
    "len(turns_per_convo[(turns_per_convo < lower_bound)])"
   ]
  },
  {
   "cell_type": "code",
   "execution_count": 41,
   "id": "1b7ddbc8-a632-439b-9334-b6848f50f6ac",
   "metadata": {},
   "outputs": [
    {
     "data": {
      "text/html": [
       "<div>\n",
       "<style scoped>\n",
       "    .dataframe tbody tr th:only-of-type {\n",
       "        vertical-align: middle;\n",
       "    }\n",
       "\n",
       "    .dataframe tbody tr th {\n",
       "        vertical-align: top;\n",
       "    }\n",
       "\n",
       "    .dataframe thead th {\n",
       "        text-align: right;\n",
       "    }\n",
       "</style>\n",
       "<table border=\"1\" class=\"dataframe\">\n",
       "  <thead>\n",
       "    <tr style=\"text-align: right;\">\n",
       "      <th></th>\n",
       "      <th>conversation_id</th>\n",
       "      <th>turn</th>\n",
       "      <th>speaker</th>\n",
       "      <th>text</th>\n",
       "    </tr>\n",
       "  </thead>\n",
       "  <tbody>\n",
       "    <tr>\n",
       "      <th>683</th>\n",
       "      <td>683</td>\n",
       "      <td>0</td>\n",
       "      <td>Customer</td>\n",
       "      <td>I understand. Ill take all of this into accou...</td>\n",
       "    </tr>\n",
       "    <tr>\n",
       "      <th>4095</th>\n",
       "      <td>683</td>\n",
       "      <td>1</td>\n",
       "      <td>Salesman</td>\n",
       "      <td>Youre welcome! Were here to help. If you have...</td>\n",
       "    </tr>\n",
       "    <tr>\n",
       "      <th>1101</th>\n",
       "      <td>1101</td>\n",
       "      <td>0</td>\n",
       "      <td>Customer</td>\n",
       "      <td>Im convinced. Ill make the purchase right away.</td>\n",
       "    </tr>\n",
       "    <tr>\n",
       "      <th>4513</th>\n",
       "      <td>1101</td>\n",
       "      <td>1</td>\n",
       "      <td>Salesman</td>\n",
       "      <td>Fantastic! Youve made an excellent decision. ...</td>\n",
       "    </tr>\n",
       "    <tr>\n",
       "      <th>1137</th>\n",
       "      <td>1137</td>\n",
       "      <td>0</td>\n",
       "      <td>Customer</td>\n",
       "      <td>Thank you for explaining. I feel more compell...</td>\n",
       "    </tr>\n",
       "    <tr>\n",
       "      <th>4549</th>\n",
       "      <td>1137</td>\n",
       "      <td>1</td>\n",
       "      <td>Salesman</td>\n",
       "      <td>Youre welcome! Were here to assist you in mak...</td>\n",
       "    </tr>\n",
       "    <tr>\n",
       "      <th>1214</th>\n",
       "      <td>1214</td>\n",
       "      <td>0</td>\n",
       "      <td>Customer</td>\n",
       "      <td>Im looking for a long-term investment partner...</td>\n",
       "    </tr>\n",
       "    <tr>\n",
       "      <th>4626</th>\n",
       "      <td>1214</td>\n",
       "      <td>1</td>\n",
       "      <td>Salesman</td>\n",
       "      <td>Building long-term relationships is a priorit...</td>\n",
       "    </tr>\n",
       "    <tr>\n",
       "      <th>1215</th>\n",
       "      <td>1215</td>\n",
       "      <td>0</td>\n",
       "      <td>Customer</td>\n",
       "      <td>That sounds perfect. I appreciate your dedica...</td>\n",
       "    </tr>\n",
       "    <tr>\n",
       "      <th>4627</th>\n",
       "      <td>1215</td>\n",
       "      <td>1</td>\n",
       "      <td>Salesman</td>\n",
       "      <td>Thank you for your trust! Were confident that...</td>\n",
       "    </tr>\n",
       "  </tbody>\n",
       "</table>\n",
       "</div>"
      ],
      "text/plain": [
       "      conversation_id  turn   speaker  \\\n",
       "683               683     0  Customer   \n",
       "4095              683     1  Salesman   \n",
       "1101             1101     0  Customer   \n",
       "4513             1101     1  Salesman   \n",
       "1137             1137     0  Customer   \n",
       "4549             1137     1  Salesman   \n",
       "1214             1214     0  Customer   \n",
       "4626             1214     1  Salesman   \n",
       "1215             1215     0  Customer   \n",
       "4627             1215     1  Salesman   \n",
       "\n",
       "                                                   text  \n",
       "683    I understand. Ill take all of this into accou...  \n",
       "4095   Youre welcome! Were here to help. If you have...  \n",
       "1101    Im convinced. Ill make the purchase right away.  \n",
       "4513   Fantastic! Youve made an excellent decision. ...  \n",
       "1137   Thank you for explaining. I feel more compell...  \n",
       "4549   Youre welcome! Were here to assist you in mak...  \n",
       "1214   Im looking for a long-term investment partner...  \n",
       "4626   Building long-term relationships is a priorit...  \n",
       "1215   That sounds perfect. I appreciate your dedica...  \n",
       "4627   Thank you for your trust! Were confident that...  "
      ]
     },
     "execution_count": 41,
     "metadata": {},
     "output_type": "execute_result"
    }
   ],
   "source": [
    "df_melted[df_melted['conversation_id'].isin(outliers.index)].sort_values('conversation_id').head(10)"
   ]
  },
  {
   "cell_type": "code",
   "execution_count": 42,
   "id": "a01340b8-d593-42c7-bcee-5a570d39a22f",
   "metadata": {},
   "outputs": [
    {
     "data": {
      "text/html": [
       "<div>\n",
       "<style scoped>\n",
       "    .dataframe tbody tr th:only-of-type {\n",
       "        vertical-align: middle;\n",
       "    }\n",
       "\n",
       "    .dataframe tbody tr th {\n",
       "        vertical-align: top;\n",
       "    }\n",
       "\n",
       "    .dataframe thead th {\n",
       "        text-align: right;\n",
       "    }\n",
       "</style>\n",
       "<table border=\"1\" class=\"dataframe\">\n",
       "  <thead>\n",
       "    <tr style=\"text-align: right;\">\n",
       "      <th></th>\n",
       "      <th>0</th>\n",
       "      <th>1</th>\n",
       "      <th>2</th>\n",
       "      <th>3</th>\n",
       "      <th>4</th>\n",
       "      <th>5</th>\n",
       "      <th>6</th>\n",
       "      <th>7</th>\n",
       "      <th>8</th>\n",
       "      <th>9</th>\n",
       "      <th>...</th>\n",
       "      <th>11</th>\n",
       "      <th>12</th>\n",
       "      <th>13</th>\n",
       "      <th>14</th>\n",
       "      <th>15</th>\n",
       "      <th>16</th>\n",
       "      <th>17</th>\n",
       "      <th>18</th>\n",
       "      <th>19</th>\n",
       "      <th>conversation_id</th>\n",
       "    </tr>\n",
       "  </thead>\n",
       "  <tbody>\n",
       "    <tr>\n",
       "      <th>683</th>\n",
       "      <td>Customer: I understand. Ill take all of this i...</td>\n",
       "      <td>Salesman: Youre welcome! Were here to help. If...</td>\n",
       "      <td>NaN</td>\n",
       "      <td>NaN</td>\n",
       "      <td>NaN</td>\n",
       "      <td>NaN</td>\n",
       "      <td>NaN</td>\n",
       "      <td>NaN</td>\n",
       "      <td>NaN</td>\n",
       "      <td>NaN</td>\n",
       "      <td>...</td>\n",
       "      <td>NaN</td>\n",
       "      <td>NaN</td>\n",
       "      <td>NaN</td>\n",
       "      <td>NaN</td>\n",
       "      <td>NaN</td>\n",
       "      <td>NaN</td>\n",
       "      <td>NaN</td>\n",
       "      <td>NaN</td>\n",
       "      <td>NaN</td>\n",
       "      <td>683</td>\n",
       "    </tr>\n",
       "    <tr>\n",
       "      <th>1101</th>\n",
       "      <td>Customer: Im convinced. Ill make the purchase ...</td>\n",
       "      <td>Salesman: Fantastic! Youve made an excellent d...</td>\n",
       "      <td>NaN</td>\n",
       "      <td>NaN</td>\n",
       "      <td>NaN</td>\n",
       "      <td>NaN</td>\n",
       "      <td>NaN</td>\n",
       "      <td>NaN</td>\n",
       "      <td>NaN</td>\n",
       "      <td>NaN</td>\n",
       "      <td>...</td>\n",
       "      <td>NaN</td>\n",
       "      <td>NaN</td>\n",
       "      <td>NaN</td>\n",
       "      <td>NaN</td>\n",
       "      <td>NaN</td>\n",
       "      <td>NaN</td>\n",
       "      <td>NaN</td>\n",
       "      <td>NaN</td>\n",
       "      <td>NaN</td>\n",
       "      <td>1101</td>\n",
       "    </tr>\n",
       "    <tr>\n",
       "      <th>1137</th>\n",
       "      <td>Customer: Thank you for explaining. I feel mor...</td>\n",
       "      <td>Salesman: Youre welcome! Were here to assist y...</td>\n",
       "      <td>NaN</td>\n",
       "      <td>NaN</td>\n",
       "      <td>NaN</td>\n",
       "      <td>NaN</td>\n",
       "      <td>NaN</td>\n",
       "      <td>NaN</td>\n",
       "      <td>NaN</td>\n",
       "      <td>NaN</td>\n",
       "      <td>...</td>\n",
       "      <td>NaN</td>\n",
       "      <td>NaN</td>\n",
       "      <td>NaN</td>\n",
       "      <td>NaN</td>\n",
       "      <td>NaN</td>\n",
       "      <td>NaN</td>\n",
       "      <td>NaN</td>\n",
       "      <td>NaN</td>\n",
       "      <td>NaN</td>\n",
       "      <td>1137</td>\n",
       "    </tr>\n",
       "    <tr>\n",
       "      <th>1214</th>\n",
       "      <td>Customer: Im looking for a long-term investmen...</td>\n",
       "      <td>Salesman: Building long-term relationships is ...</td>\n",
       "      <td>NaN</td>\n",
       "      <td>NaN</td>\n",
       "      <td>NaN</td>\n",
       "      <td>NaN</td>\n",
       "      <td>NaN</td>\n",
       "      <td>NaN</td>\n",
       "      <td>NaN</td>\n",
       "      <td>NaN</td>\n",
       "      <td>...</td>\n",
       "      <td>NaN</td>\n",
       "      <td>NaN</td>\n",
       "      <td>NaN</td>\n",
       "      <td>NaN</td>\n",
       "      <td>NaN</td>\n",
       "      <td>NaN</td>\n",
       "      <td>NaN</td>\n",
       "      <td>NaN</td>\n",
       "      <td>NaN</td>\n",
       "      <td>1214</td>\n",
       "    </tr>\n",
       "    <tr>\n",
       "      <th>1215</th>\n",
       "      <td>Customer: That sounds perfect. I appreciate yo...</td>\n",
       "      <td>Salesman: Thank you for your trust! Were confi...</td>\n",
       "      <td>NaN</td>\n",
       "      <td>NaN</td>\n",
       "      <td>NaN</td>\n",
       "      <td>NaN</td>\n",
       "      <td>NaN</td>\n",
       "      <td>NaN</td>\n",
       "      <td>NaN</td>\n",
       "      <td>NaN</td>\n",
       "      <td>...</td>\n",
       "      <td>NaN</td>\n",
       "      <td>NaN</td>\n",
       "      <td>NaN</td>\n",
       "      <td>NaN</td>\n",
       "      <td>NaN</td>\n",
       "      <td>NaN</td>\n",
       "      <td>NaN</td>\n",
       "      <td>NaN</td>\n",
       "      <td>NaN</td>\n",
       "      <td>1215</td>\n",
       "    </tr>\n",
       "  </tbody>\n",
       "</table>\n",
       "<p>5 rows × 21 columns</p>\n",
       "</div>"
      ],
      "text/plain": [
       "                                                      0  \\\n",
       "683   Customer: I understand. Ill take all of this i...   \n",
       "1101  Customer: Im convinced. Ill make the purchase ...   \n",
       "1137  Customer: Thank you for explaining. I feel mor...   \n",
       "1214  Customer: Im looking for a long-term investmen...   \n",
       "1215  Customer: That sounds perfect. I appreciate yo...   \n",
       "\n",
       "                                                      1    2    3    4    5  \\\n",
       "683   Salesman: Youre welcome! Were here to help. If...  NaN  NaN  NaN  NaN   \n",
       "1101  Salesman: Fantastic! Youve made an excellent d...  NaN  NaN  NaN  NaN   \n",
       "1137  Salesman: Youre welcome! Were here to assist y...  NaN  NaN  NaN  NaN   \n",
       "1214  Salesman: Building long-term relationships is ...  NaN  NaN  NaN  NaN   \n",
       "1215  Salesman: Thank you for your trust! Were confi...  NaN  NaN  NaN  NaN   \n",
       "\n",
       "        6    7    8    9  ...   11   12   13   14   15   16   17   18   19  \\\n",
       "683   NaN  NaN  NaN  NaN  ...  NaN  NaN  NaN  NaN  NaN  NaN  NaN  NaN  NaN   \n",
       "1101  NaN  NaN  NaN  NaN  ...  NaN  NaN  NaN  NaN  NaN  NaN  NaN  NaN  NaN   \n",
       "1137  NaN  NaN  NaN  NaN  ...  NaN  NaN  NaN  NaN  NaN  NaN  NaN  NaN  NaN   \n",
       "1214  NaN  NaN  NaN  NaN  ...  NaN  NaN  NaN  NaN  NaN  NaN  NaN  NaN  NaN   \n",
       "1215  NaN  NaN  NaN  NaN  ...  NaN  NaN  NaN  NaN  NaN  NaN  NaN  NaN  NaN   \n",
       "\n",
       "     conversation_id  \n",
       "683              683  \n",
       "1101            1101  \n",
       "1137            1137  \n",
       "1214            1214  \n",
       "1215            1215  \n",
       "\n",
       "[5 rows x 21 columns]"
      ]
     },
     "execution_count": 42,
     "metadata": {},
     "output_type": "execute_result"
    }
   ],
   "source": [
    "# Looking at the original dataset, it looks like reshaping was performed correctly,\n",
    "# but the fault lies in the data collection itself (something like that).\n",
    "# They seem to be just parts of conversations. Very short parts. Removing these outliers in preprocessing.\n",
    "df.iloc[outliers.index].head()"
   ]
  },
  {
   "cell_type": "code",
   "execution_count": 43,
   "id": "c67864cb-36e1-4ee3-a7bf-c86cd17095f8",
   "metadata": {},
   "outputs": [
    {
     "data": {
      "image/png": "[encoded data removed]",
      "text/plain": [
       "<Figure size 500x300 with 1 Axes>"
      ]
     },
     "metadata": {},
     "output_type": "display_data"
    }
   ],
   "source": [
    "# Plot a histogram of conversation lengths\n",
    "plt.figure(figsize=(5, 3))\n",
    "plt.hist(turns_per_convo, bins=20, edgecolor='k', alpha=0.7)\n",
    "plt.xlabel(\"Number of Turns per Conversation\")\n",
    "plt.ylabel(\"Number of Conversations\")\n",
    "plt.title(\"Distribution of Conversation Lengths\")\n",
    "plt.show()"
   ]
  },
  {
   "cell_type": "markdown",
   "id": "9c2f6426-9b8e-41fa-a224-5c13696b4af3",
   "metadata": {},
   "source": [
    "### **TODO: ^ is the same information as the previous plot. Remove / condense / clean up**\n",
    "* And summarize findings? insights/implications for preprocessing or modeling"
   ]
  },
  {
   "cell_type": "markdown",
   "id": "ec187efa-2055-48a7-962c-3cfdca02c830",
   "metadata": {},
   "source": [
    "___"
   ]
  },
  {
   "cell_type": "markdown",
   "id": "7418e4e9-2685-43ef-9c02-0b83c5aeae32",
   "metadata": {},
   "source": [
    "## 4. Text Analysis\n",
    "* The characteristics and structure of the texts, rather than their topics"
   ]
  },
  {
   "cell_type": "code",
   "execution_count": 44,
   "id": "9ef650cd-9656-4312-ba47-df6f422a3961",
   "metadata": {},
   "outputs": [
    {
     "data": {
      "image/png": "[encoded data removed]",
      "text/plain": [
       "<Figure size 500x300 with 1 Axes>"
      ]
     },
     "metadata": {},
     "output_type": "display_data"
    }
   ],
   "source": [
    "# Text Length Distribution: Text length for each snippet\n",
    "df_melted[\"text_length\"] = df_melted[\"text\"].str.len()\n",
    "\n",
    "plt.figure(figsize=(5, 3))\n",
    "plt.hist(df_melted[\"text_length\"], bins=20, edgecolor=\"black\", alpha=0.7)\n",
    "plt.xlabel(\"Text Length (characters)\")\n",
    "plt.ylabel(\"Frequency\")\n",
    "plt.title(\"Distribution of Text Length Across Snippets\")\n",
    "plt.show()"
   ]
  },
  {
   "cell_type": "code",
   "execution_count": 45,
   "id": "c80d9606-f475-4d03-992d-cf5d6ab423bf",
   "metadata": {},
   "outputs": [
    {
     "data": {
      "text/plain": [
       "count    41854.000000\n",
       "mean       147.262842\n",
       "std         92.908993\n",
       "min         16.000000\n",
       "25%         81.000000\n",
       "50%        113.000000\n",
       "75%        193.000000\n",
       "max        817.000000\n",
       "Name: text_length, dtype: float64"
      ]
     },
     "execution_count": 45,
     "metadata": {},
     "output_type": "execute_result"
    }
   ],
   "source": [
    "# Display basic statistics for text length to provide further insights\n",
    "df_melted[\"text_length\"].describe()"
   ]
  },
  {
   "cell_type": "markdown",
   "id": "824e006c-b285-4b35-9e3c-92c28c7ec684",
   "metadata": {},
   "source": [
    "**Text Complexity**"
   ]
  },
  {
   "cell_type": "code",
   "execution_count": 46,
   "id": "b91e892f-0951-43d0-a41f-0aed536c30a8",
   "metadata": {},
   "outputs": [
    {
     "name": "stdout",
     "output_type": "stream",
     "text": [
      "Average Sentence Length Summary Statistics:\n"
     ]
    },
    {
     "data": {
      "text/plain": [
       "count    41854.000000\n",
       "mean        10.436824\n",
       "std          3.336831\n",
       "min          1.250000\n",
       "25%          8.000000\n",
       "50%         10.000000\n",
       "75%         12.250000\n",
       "max         56.000000\n",
       "Name: sentence_length, dtype: float64"
      ]
     },
     "execution_count": 46,
     "metadata": {},
     "output_type": "execute_result"
    }
   ],
   "source": [
    "# Text Complexity: Average sentence length (in words)\n",
    "df_melted['sentence_length'] = df_melted['text'].apply(lambda x: len(x.split()) / max(1, sum(x.count(p) for p in ['.', '?', '!'])))\n",
    "print(\"Average Sentence Length Summary Statistics:\")\n",
    "df_melted[\"sentence_length\"].describe()"
   ]
  },
  {
   "cell_type": "code",
   "execution_count": 47,
   "id": "c8f61a1c-cfb5-4c98-9593-127a13fdc723",
   "metadata": {},
   "outputs": [
    {
     "name": "stdout",
     "output_type": "stream",
     "text": [
      "Readability Summary Statistics:\n",
      "count    41854.000000\n",
      "mean        60.698278\n",
      "std         20.694169\n",
      "min        -52.720000\n",
      "25%         47.450000\n",
      "50%         62.340000\n",
      "75%         75.200000\n",
      "max        119.190000\n",
      "Name: readability, dtype: float64\n"
     ]
    }
   ],
   "source": [
    "# Text Complexity: Readability score (for each snippet)\n",
    "df_melted['readability'] = df_melted['text'].apply(textstat.flesch_reading_ease)\n",
    "print(\"Readability Summary Statistics:\")\n",
    "print(df_melted[\"readability\"].describe())"
   ]
  },
  {
   "cell_type": "code",
   "execution_count": 48,
   "id": "71fd0d98-14cd-4f08-8b89-6b0efbb9a341",
   "metadata": {},
   "outputs": [
    {
     "data": {
      "image/png": "[encoded data removed]",
      "text/plain": [
       "<Figure size 500x300 with 1 Axes>"
      ]
     },
     "metadata": {},
     "output_type": "display_data"
    }
   ],
   "source": [
    "# Readability score distribution\n",
    "plt.figure(figsize=(5, 3))\n",
    "plt.hist(df_melted[\"readability\"], bins=20, edgecolor=\"black\", alpha=0.7)\n",
    "plt.xlabel(\"Readability Score\")\n",
    "plt.ylabel(\"Frequency\")\n",
    "plt.title(\"Distribution of Readability Scores Across Snippets\")\n",
    "plt.show()"
   ]
  },
  {
   "cell_type": "markdown",
   "id": "0569e50f-137f-4434-b15f-3ddd915d2bcc",
   "metadata": {},
   "source": [
    "**Frequent Words**"
   ]
  },
  {
   "cell_type": "code",
   "execution_count": 49,
   "id": "2a842d56-7e6d-4fbe-bb16-2c4778f782b7",
   "metadata": {},
   "outputs": [
    {
     "name": "stdout",
     "output_type": "stream",
     "text": [
      "Most Common Words:\n",
      "          word  frequency\n",
      "0          im      13304\n",
      "1     provide       5957\n",
      "2     product       5194\n",
      "3  understand       5178\n",
      "4    specific       4922\n",
      "5   financial       4507\n",
      "6      health       3799\n",
      "7         let       3594\n",
      "8        help       3567\n",
      "9        sure       3559\n"
     ]
    },
    {
     "name": "stderr",
     "output_type": "stream",
     "text": [
      "[nltk_data] Downloading package stopwords to\n",
      "[nltk_data]     /Users/jacquelinehong/nltk_data...\n",
      "[nltk_data]   Package stopwords is already up-to-date!\n"
     ]
    }
   ],
   "source": [
    "# Get stopwords\n",
    "nltk.download(\"stopwords\")\n",
    "stop_words = set(stopwords.words(\"english\"))\n",
    "\n",
    "# Tokenize and count the words (excluding stopwords)\n",
    "all_words = \" \".join(df_melted[\"text\"]).lower().split()\n",
    "filtered_words = [word for word in all_words if word.isalpha() and word not in stop_words]\n",
    "word_counts = Counter(filtered_words)\n",
    "\n",
    "# Most common words\n",
    "common_words = word_counts.most_common(10)\n",
    "common_words_df = pd.DataFrame(common_words, columns=[\"word\", \"frequency\"])\n",
    "print(\"Most Common Words:\\n\", common_words_df)"
   ]
  },
  {
   "cell_type": "code",
   "execution_count": 50,
   "id": "9897126d-9f56-4dd4-97b5-7dbdf86b5f36",
   "metadata": {},
   "outputs": [
    {
     "data": {
      "image/png": "[encoded data removed]",
      "text/plain": [
       "<Figure size 500x300 with 1 Axes>"
      ]
     },
     "metadata": {},
     "output_type": "display_data"
    }
   ],
   "source": [
    "# Most common words visualized\n",
    "plt.figure(figsize=(5, 3))\n",
    "plt.barh(common_words_df[\"word\"], common_words_df[\"frequency\"], color=\"skyblue\")\n",
    "plt.xlabel(\"frequency\")\n",
    "plt.title(\"Top 10 Most Common Words Across Conversations\")\n",
    "plt.gca().invert_yaxis()\n",
    "plt.show()"
   ]
  },
  {
   "cell_type": "markdown",
   "id": "bb499f12-9ece-4553-ace3-ac9eee3ad1f3",
   "metadata": {},
   "source": [
    "**Speaker-Specific Patterns**\n",
    "\n",
    "**Response Length by Speaker**"
   ]
  },
  {
   "cell_type": "code",
   "execution_count": 51,
   "id": "0dde2263-e742-4a58-8fa1-76ee9731aceb",
   "metadata": {},
   "outputs": [
    {
     "data": {
      "text/html": [
       "<div>\n",
       "<style scoped>\n",
       "    .dataframe tbody tr th:only-of-type {\n",
       "        vertical-align: middle;\n",
       "    }\n",
       "\n",
       "    .dataframe tbody tr th {\n",
       "        vertical-align: top;\n",
       "    }\n",
       "\n",
       "    .dataframe thead th {\n",
       "        text-align: right;\n",
       "    }\n",
       "</style>\n",
       "<table border=\"1\" class=\"dataframe\">\n",
       "  <thead>\n",
       "    <tr style=\"text-align: right;\">\n",
       "      <th></th>\n",
       "      <th>count</th>\n",
       "      <th>mean</th>\n",
       "      <th>std</th>\n",
       "      <th>min</th>\n",
       "      <th>25%</th>\n",
       "      <th>50%</th>\n",
       "      <th>75%</th>\n",
       "      <th>max</th>\n",
       "    </tr>\n",
       "    <tr>\n",
       "      <th>speaker</th>\n",
       "      <th></th>\n",
       "      <th></th>\n",
       "      <th></th>\n",
       "      <th></th>\n",
       "      <th></th>\n",
       "      <th></th>\n",
       "      <th></th>\n",
       "      <th></th>\n",
       "    </tr>\n",
       "  </thead>\n",
       "  <tbody>\n",
       "    <tr>\n",
       "      <th>Customer</th>\n",
       "      <td>20927.0</td>\n",
       "      <td>14.348258</td>\n",
       "      <td>3.999474</td>\n",
       "      <td>3.0</td>\n",
       "      <td>11.0</td>\n",
       "      <td>14.0</td>\n",
       "      <td>17.0</td>\n",
       "      <td>37.0</td>\n",
       "    </tr>\n",
       "    <tr>\n",
       "      <th>Salesman</th>\n",
       "      <td>20927.0</td>\n",
       "      <td>32.744302</td>\n",
       "      <td>13.788109</td>\n",
       "      <td>5.0</td>\n",
       "      <td>23.0</td>\n",
       "      <td>30.0</td>\n",
       "      <td>39.0</td>\n",
       "      <td>130.0</td>\n",
       "    </tr>\n",
       "  </tbody>\n",
       "</table>\n",
       "</div>"
      ],
      "text/plain": [
       "            count       mean        std  min   25%   50%   75%    max\n",
       "speaker                                                              \n",
       "Customer  20927.0  14.348258   3.999474  3.0  11.0  14.0  17.0   37.0\n",
       "Salesman  20927.0  32.744302  13.788109  5.0  23.0  30.0  39.0  130.0"
      ]
     },
     "execution_count": 51,
     "metadata": {},
     "output_type": "execute_result"
    }
   ],
   "source": [
    "# Response length: Average response length (word count) per text by speaker\n",
    "df_melted['word_count'] = df_melted['text'].apply(lambda x: len(str(x).split()))\n",
    "length_by_speaker_stats = df_melted.groupby('speaker')['word_count'].describe()\n",
    "length_by_speaker_stats"
   ]
  },
  {
   "cell_type": "code",
   "execution_count": 52,
   "id": "9c4bf552-f14f-4ffe-b524-8f33dddca1f3",
   "metadata": {},
   "outputs": [
    {
     "data": {
      "image/png": "[encoded data removed]",
      "text/plain": [
       "<Figure size 500x300 with 1 Axes>"
      ]
     },
     "metadata": {},
     "output_type": "display_data"
    }
   ],
   "source": [
    "# Visualization for average response length by speaker\n",
    "plt.figure(figsize=(5, 3))\n",
    "length_by_speaker_stats['mean'].plot(kind='bar', color=\"lightblue\", edgecolor=\"black\")\n",
    "plt.xlabel(\"Speaker\")\n",
    "plt.ylabel(\"Average Response Length (words)\")\n",
    "plt.title(\"Average Response Length by Speaker\")\n",
    "plt.show()"
   ]
  },
  {
   "cell_type": "markdown",
   "id": "0409b417-2bf5-45ab-ab64-696a4f74c211",
   "metadata": {},
   "source": [
    "* The Salesman uses over 2x more words on average than the Customer."
   ]
  },
  {
   "cell_type": "markdown",
   "id": "bdd7768d-8000-4bd3-999c-afb8f61cb06b",
   "metadata": {},
   "source": [
    "**Most Common Words by Speaker**"
   ]
  },
  {
   "cell_type": "code",
   "execution_count": 53,
   "id": "d02ddc25-2ba8-4dfb-b821-0cfc330db7ba",
   "metadata": {},
   "outputs": [
    {
     "name": "stdout",
     "output_type": "stream",
     "text": [
      "\n",
      "Most Common Words for Customer:\n",
      "         word  frequency\n",
      "0          im      12284\n",
      "1         ive       3153\n",
      "2        sure       3101\n",
      "3  interested       2879\n",
      "4     product       2046\n",
      "5   financial       1752\n",
      "6      health       1691\n",
      "7     looking       1572\n",
      "8     provide       1455\n",
      "9         new       1328\n",
      "\n",
      "Most Common Words for Salesman:\n",
      "         word  frequency\n",
      "0  understand       4704\n",
      "1     provide       4502\n",
      "2    specific       4404\n",
      "3         let       3588\n",
      "4     product       3148\n",
      "5   financial       2755\n",
      "6       share       2598\n",
      "7        help       2296\n",
      "8        lets       2194\n",
      "9      health       2108\n"
     ]
    }
   ],
   "source": [
    "# Most Common Words by Speaker\n",
    "\n",
    "# Tokenize text for each speaker and remove stopwords\n",
    "speaker_words = {speaker: \" \".join(df_melted[df_melted['speaker'] == speaker]['text']).lower().split() for speaker in df_melted['speaker'].unique()}\n",
    "speaker_word_counts = {speaker: Counter([word for word in words if word.isalpha() and word not in stop_words]) for speaker, words in speaker_words.items()}\n",
    "\n",
    "for speaker, word_count in speaker_word_counts.items():\n",
    "    print(f\"\\nMost Common Words for {speaker.capitalize()}:\")\n",
    "    common_words = pd.DataFrame(word_count.most_common(10), columns=[\"word\", \"frequency\"])\n",
    "    print(common_words)"
   ]
  },
  {
   "cell_type": "markdown",
   "id": "2be98b1d-4b17-46ac-9908-86c36f55b7e2",
   "metadata": {},
   "source": [
    "**Vocabulary Analysis**\n",
    "\n",
    "**Customer:** The most common words suggest that they have interests in products, financial info, and health.\n",
    "* \"I'm,\"  \"interested\"/\"looking\",  \"product\"/\"financial\"/\"health\".\n",
    "\n",
    "**Salesman:** The most common words suggest that they are playing a supportive role by attending to customer requests and providing the information that they are looking for.\n",
    "\n",
    "The difference in their most common words indicates that the Customer is an inquirer and the Samlesman's role is of a provider of targeted information."
   ]
  },
  {
   "cell_type": "markdown",
   "id": "71d165de-6584-4fd3-badd-b8018a271e4c",
   "metadata": {},
   "source": [
    "**Sentiment Analysis**:\n",
    "\n",
    "The goal is to aid in understanding the tone of each response and speaker type.\n",
    "* Sentiment labeling was moved to `label_generation.ipynb`, which is a notebook that was created after this entire `EDA.ipynb` process."
   ]
  },
  {
   "cell_type": "code",
   "execution_count": 54,
   "id": "f54a35f2-e5ec-468b-acb2-0feb9407bf5b",
   "metadata": {},
   "outputs": [
    {
     "data": {
      "text/html": [
       "<div>\n",
       "<style scoped>\n",
       "    .dataframe tbody tr th:only-of-type {\n",
       "        vertical-align: middle;\n",
       "    }\n",
       "\n",
       "    .dataframe tbody tr th {\n",
       "        vertical-align: top;\n",
       "    }\n",
       "\n",
       "    .dataframe thead th {\n",
       "        text-align: right;\n",
       "    }\n",
       "</style>\n",
       "<table border=\"1\" class=\"dataframe\">\n",
       "  <thead>\n",
       "    <tr style=\"text-align: right;\">\n",
       "      <th></th>\n",
       "      <th>conversation_id</th>\n",
       "      <th>turn</th>\n",
       "      <th>speaker</th>\n",
       "      <th>text</th>\n",
       "      <th>sentiment_score</th>\n",
       "      <th>sentiment_label</th>\n",
       "      <th>conversation_stage</th>\n",
       "      <th>response_type</th>\n",
       "    </tr>\n",
       "  </thead>\n",
       "  <tbody>\n",
       "    <tr>\n",
       "      <th>0</th>\n",
       "      <td>0</td>\n",
       "      <td>0</td>\n",
       "      <td>Customer</td>\n",
       "      <td>Hi, Im interested in purchasing a new smartph...</td>\n",
       "      <td>0.8625</td>\n",
       "      <td>positive</td>\n",
       "      <td>Introduction</td>\n",
       "      <td>Question</td>\n",
       "    </tr>\n",
       "    <tr>\n",
       "      <th>1</th>\n",
       "      <td>1</td>\n",
       "      <td>0</td>\n",
       "      <td>Customer</td>\n",
       "      <td>Hi, Im interested in learning more about your...</td>\n",
       "      <td>0.4019</td>\n",
       "      <td>positive</td>\n",
       "      <td>Introduction</td>\n",
       "      <td>Small Talk</td>\n",
       "    </tr>\n",
       "    <tr>\n",
       "      <th>2</th>\n",
       "      <td>2</td>\n",
       "      <td>0</td>\n",
       "      <td>Customer</td>\n",
       "      <td>Hi, Im interested in investing in the stock m...</td>\n",
       "      <td>0.6597</td>\n",
       "      <td>positive</td>\n",
       "      <td>Introduction</td>\n",
       "      <td>Question</td>\n",
       "    </tr>\n",
       "    <tr>\n",
       "      <th>3</th>\n",
       "      <td>3</td>\n",
       "      <td>0</td>\n",
       "      <td>Customer</td>\n",
       "      <td>Hello, Im interested in your financial planni...</td>\n",
       "      <td>0.4019</td>\n",
       "      <td>positive</td>\n",
       "      <td>Introduction</td>\n",
       "      <td>Small Talk</td>\n",
       "    </tr>\n",
       "    <tr>\n",
       "      <th>4</th>\n",
       "      <td>4</td>\n",
       "      <td>0</td>\n",
       "      <td>Customer</td>\n",
       "      <td>Hi, Im interested in purchasing a new laptop....</td>\n",
       "      <td>0.6597</td>\n",
       "      <td>positive</td>\n",
       "      <td>Introduction</td>\n",
       "      <td>Question</td>\n",
       "    </tr>\n",
       "  </tbody>\n",
       "</table>\n",
       "</div>"
      ],
      "text/plain": [
       "   conversation_id  turn   speaker  \\\n",
       "0                0     0  Customer   \n",
       "1                1     0  Customer   \n",
       "2                2     0  Customer   \n",
       "3                3     0  Customer   \n",
       "4                4     0  Customer   \n",
       "\n",
       "                                                text  sentiment_score  \\\n",
       "0   Hi, Im interested in purchasing a new smartph...           0.8625   \n",
       "1   Hi, Im interested in learning more about your...           0.4019   \n",
       "2   Hi, Im interested in investing in the stock m...           0.6597   \n",
       "3   Hello, Im interested in your financial planni...           0.4019   \n",
       "4   Hi, Im interested in purchasing a new laptop....           0.6597   \n",
       "\n",
       "  sentiment_label conversation_stage response_type  \n",
       "0        positive       Introduction      Question  \n",
       "1        positive       Introduction    Small Talk  \n",
       "2        positive       Introduction      Question  \n",
       "3        positive       Introduction    Small Talk  \n",
       "4        positive       Introduction      Question  "
      ]
     },
     "execution_count": 54,
     "metadata": {},
     "output_type": "execute_result"
    }
   ],
   "source": [
    "# load sentiment labels\n",
    "sentiment_df = pd.read_csv(\"../data/processed/labeled_sequential_convos.csv\")\n",
    "sentiment_df.head()"
   ]
  },
  {
   "cell_type": "code",
   "execution_count": 55,
   "id": "8cc06488-fdc3-4c5a-8ee0-6ec921642b3b",
   "metadata": {},
   "outputs": [
    {
     "name": "stdout",
     "output_type": "stream",
     "text": [
      "Sentiment Distribution by Speaker\n"
     ]
    },
    {
     "data": {
      "text/html": [
       "<div>\n",
       "<style scoped>\n",
       "    .dataframe tbody tr th:only-of-type {\n",
       "        vertical-align: middle;\n",
       "    }\n",
       "\n",
       "    .dataframe tbody tr th {\n",
       "        vertical-align: top;\n",
       "    }\n",
       "\n",
       "    .dataframe thead th {\n",
       "        text-align: right;\n",
       "    }\n",
       "</style>\n",
       "<table border=\"1\" class=\"dataframe\">\n",
       "  <thead>\n",
       "    <tr style=\"text-align: right;\">\n",
       "      <th>sentiment_label</th>\n",
       "      <th>negative</th>\n",
       "      <th>neutral</th>\n",
       "      <th>positive</th>\n",
       "    </tr>\n",
       "    <tr>\n",
       "      <th>speaker</th>\n",
       "      <th></th>\n",
       "      <th></th>\n",
       "      <th></th>\n",
       "    </tr>\n",
       "  </thead>\n",
       "  <tbody>\n",
       "    <tr>\n",
       "      <th>Customer</th>\n",
       "      <td>5280</td>\n",
       "      <td>5013</td>\n",
       "      <td>10634</td>\n",
       "    </tr>\n",
       "    <tr>\n",
       "      <th>Salesman</th>\n",
       "      <td>1474</td>\n",
       "      <td>960</td>\n",
       "      <td>18493</td>\n",
       "    </tr>\n",
       "  </tbody>\n",
       "</table>\n",
       "</div>"
      ],
      "text/plain": [
       "sentiment_label  negative  neutral  positive\n",
       "speaker                                     \n",
       "Customer             5280     5013     10634\n",
       "Salesman             1474      960     18493"
      ]
     },
     "execution_count": 55,
     "metadata": {},
     "output_type": "execute_result"
    }
   ],
   "source": [
    "sentiment_distribution = sentiment_df.groupby([\"speaker\", \"sentiment_label\"]).size().unstack(fill_value=0)\n",
    "print(\"Sentiment Distribution by Speaker\")\n",
    "sentiment_distribution"
   ]
  },
  {
   "cell_type": "code",
   "execution_count": 56,
   "id": "d05bb64b-22a2-42c8-bf52-9000bb6d2f79",
   "metadata": {},
   "outputs": [
    {
     "data": {
      "image/png": "[encoded data removed]",
      "text/plain": [
       "<Figure size 500x300 with 1 Axes>"
      ]
     },
     "metadata": {},
     "output_type": "display_data"
    }
   ],
   "source": [
    "# Visual comparison of sentiment for each speaker\n",
    "sentiment_distribution.plot(kind=\"bar\", stacked=True, figsize=(5, 3), color=[\"lightgreen\", \"lightcoral\", \"lightblue\"])\n",
    "plt.xlabel(\"Speaker\")\n",
    "plt.ylabel(\"Number of Snippets\")\n",
    "plt.title(\"Sentiment Distribution by Speaker\")\n",
    "plt.legend(title=\"Sentiment\")\n",
    "plt.show()"
   ]
  },
  {
   "cell_type": "markdown",
   "id": "b2a1a5bc-d939-4658-b86f-a1f5103bb5e7",
   "metadata": {},
   "source": [
    "* Salesmen tend to have a **significantly larger proportion of positive sentiment** compared to Customers.\n",
    "    * A more optimistic and reassuring tone towards the Customer\n",
    "* Customers have a more **varied sentiment distribution**. They still have a lot of positive sentiment but also a substantial amount of negative and neutral snippets, possibly reflecting curiosity and uncertainty.\n",
    "    * A wider range of emotions"
   ]
  },
  {
   "cell_type": "markdown",
   "id": "44d3940f-b250-476b-8bfb-b8fdd03dd72b",
   "metadata": {},
   "source": [
    "___"
   ]
  },
  {
   "cell_type": "markdown",
   "id": "99776b24-ad0b-4b67-af71-cdf0134e16b4",
   "metadata": {},
   "source": [
    "## 5. Speaker Sequence Analysis"
   ]
  },
  {
   "cell_type": "code",
   "execution_count": 57,
   "id": "fd3489a3-97c8-4b84-8db7-2ee3e0db28d9",
   "metadata": {},
   "outputs": [
    {
     "data": {
      "text/plain": [
       "speaker\n",
       "Customer    20927\n",
       "Salesman    20927\n",
       "Name: count, dtype: int64"
      ]
     },
     "execution_count": 57,
     "metadata": {},
     "output_type": "execute_result"
    }
   ],
   "source": [
    "# Counts of each speaker type\n",
    "df_melted['speaker'].value_counts()"
   ]
  },
  {
   "cell_type": "code",
   "execution_count": 58,
   "id": "cd4c0934-e0c1-4c3a-8f98-63777b20bac2",
   "metadata": {},
   "outputs": [
    {
     "data": {
      "text/html": [
       "<div>\n",
       "<style scoped>\n",
       "    .dataframe tbody tr th:only-of-type {\n",
       "        vertical-align: middle;\n",
       "    }\n",
       "\n",
       "    .dataframe tbody tr th {\n",
       "        vertical-align: top;\n",
       "    }\n",
       "\n",
       "    .dataframe thead th {\n",
       "        text-align: right;\n",
       "    }\n",
       "</style>\n",
       "<table border=\"1\" class=\"dataframe\">\n",
       "  <thead>\n",
       "    <tr style=\"text-align: right;\">\n",
       "      <th>speaker</th>\n",
       "      <th>Customer</th>\n",
       "      <th>Salesman</th>\n",
       "    </tr>\n",
       "    <tr>\n",
       "      <th>conversation_id</th>\n",
       "      <th></th>\n",
       "      <th></th>\n",
       "    </tr>\n",
       "  </thead>\n",
       "  <tbody>\n",
       "    <tr>\n",
       "      <th>0</th>\n",
       "      <td>6</td>\n",
       "      <td>6</td>\n",
       "    </tr>\n",
       "    <tr>\n",
       "      <th>1</th>\n",
       "      <td>6</td>\n",
       "      <td>6</td>\n",
       "    </tr>\n",
       "    <tr>\n",
       "      <th>2</th>\n",
       "      <td>5</td>\n",
       "      <td>5</td>\n",
       "    </tr>\n",
       "    <tr>\n",
       "      <th>3</th>\n",
       "      <td>5</td>\n",
       "      <td>5</td>\n",
       "    </tr>\n",
       "    <tr>\n",
       "      <th>4</th>\n",
       "      <td>8</td>\n",
       "      <td>8</td>\n",
       "    </tr>\n",
       "    <tr>\n",
       "      <th>...</th>\n",
       "      <td>...</td>\n",
       "      <td>...</td>\n",
       "    </tr>\n",
       "    <tr>\n",
       "      <th>3407</th>\n",
       "      <td>5</td>\n",
       "      <td>5</td>\n",
       "    </tr>\n",
       "    <tr>\n",
       "      <th>3408</th>\n",
       "      <td>8</td>\n",
       "      <td>8</td>\n",
       "    </tr>\n",
       "    <tr>\n",
       "      <th>3409</th>\n",
       "      <td>5</td>\n",
       "      <td>5</td>\n",
       "    </tr>\n",
       "    <tr>\n",
       "      <th>3410</th>\n",
       "      <td>7</td>\n",
       "      <td>7</td>\n",
       "    </tr>\n",
       "    <tr>\n",
       "      <th>3411</th>\n",
       "      <td>8</td>\n",
       "      <td>8</td>\n",
       "    </tr>\n",
       "  </tbody>\n",
       "</table>\n",
       "<p>3411 rows × 2 columns</p>\n",
       "</div>"
      ],
      "text/plain": [
       "speaker          Customer  Salesman\n",
       "conversation_id                    \n",
       "0                       6         6\n",
       "1                       6         6\n",
       "2                       5         5\n",
       "3                       5         5\n",
       "4                       8         8\n",
       "...                   ...       ...\n",
       "3407                    5         5\n",
       "3408                    8         8\n",
       "3409                    5         5\n",
       "3410                    7         7\n",
       "3411                    8         8\n",
       "\n",
       "[3411 rows x 2 columns]"
      ]
     },
     "execution_count": 58,
     "metadata": {},
     "output_type": "execute_result"
    }
   ],
   "source": [
    "# Counts of each speaker per convo\n",
    "speaker_counts_per_convo = df_melted.groupby(['conversation_id', 'speaker']).size().unstack()\n",
    "speaker_counts_per_convo"
   ]
  },
  {
   "cell_type": "code",
   "execution_count": 59,
   "id": "6dcf1642-3773-415a-8ea3-dc679ab46388",
   "metadata": {},
   "outputs": [
    {
     "data": {
      "text/html": [
       "<div>\n",
       "<style scoped>\n",
       "    .dataframe tbody tr th:only-of-type {\n",
       "        vertical-align: middle;\n",
       "    }\n",
       "\n",
       "    .dataframe tbody tr th {\n",
       "        vertical-align: top;\n",
       "    }\n",
       "\n",
       "    .dataframe thead th {\n",
       "        text-align: right;\n",
       "    }\n",
       "</style>\n",
       "<table border=\"1\" class=\"dataframe\">\n",
       "  <thead>\n",
       "    <tr style=\"text-align: right;\">\n",
       "      <th>speaker</th>\n",
       "      <th>Customer</th>\n",
       "      <th>Salesman</th>\n",
       "    </tr>\n",
       "  </thead>\n",
       "  <tbody>\n",
       "    <tr>\n",
       "      <th>count</th>\n",
       "      <td>3411.000000</td>\n",
       "      <td>3411.000000</td>\n",
       "    </tr>\n",
       "    <tr>\n",
       "      <th>mean</th>\n",
       "      <td>6.135151</td>\n",
       "      <td>6.135151</td>\n",
       "    </tr>\n",
       "    <tr>\n",
       "      <th>std</th>\n",
       "      <td>1.407426</td>\n",
       "      <td>1.407426</td>\n",
       "    </tr>\n",
       "    <tr>\n",
       "      <th>min</th>\n",
       "      <td>1.000000</td>\n",
       "      <td>1.000000</td>\n",
       "    </tr>\n",
       "    <tr>\n",
       "      <th>25%</th>\n",
       "      <td>5.000000</td>\n",
       "      <td>5.000000</td>\n",
       "    </tr>\n",
       "    <tr>\n",
       "      <th>50%</th>\n",
       "      <td>6.000000</td>\n",
       "      <td>6.000000</td>\n",
       "    </tr>\n",
       "    <tr>\n",
       "      <th>75%</th>\n",
       "      <td>7.000000</td>\n",
       "      <td>7.000000</td>\n",
       "    </tr>\n",
       "    <tr>\n",
       "      <th>max</th>\n",
       "      <td>10.000000</td>\n",
       "      <td>10.000000</td>\n",
       "    </tr>\n",
       "  </tbody>\n",
       "</table>\n",
       "</div>"
      ],
      "text/plain": [
       "speaker     Customer     Salesman\n",
       "count    3411.000000  3411.000000\n",
       "mean        6.135151     6.135151\n",
       "std         1.407426     1.407426\n",
       "min         1.000000     1.000000\n",
       "25%         5.000000     5.000000\n",
       "50%         6.000000     6.000000\n",
       "75%         7.000000     7.000000\n",
       "max        10.000000    10.000000"
      ]
     },
     "execution_count": 59,
     "metadata": {},
     "output_type": "execute_result"
    }
   ],
   "source": [
    "speaker_counts_per_convo.describe()"
   ]
  },
  {
   "cell_type": "code",
   "execution_count": 60,
   "id": "ef64198a-4988-4663-8cb7-2c3577ed96e3",
   "metadata": {},
   "outputs": [
    {
     "data": {
      "text/html": [
       "<div>\n",
       "<style scoped>\n",
       "    .dataframe tbody tr th:only-of-type {\n",
       "        vertical-align: middle;\n",
       "    }\n",
       "\n",
       "    .dataframe tbody tr th {\n",
       "        vertical-align: top;\n",
       "    }\n",
       "\n",
       "    .dataframe thead th {\n",
       "        text-align: right;\n",
       "    }\n",
       "</style>\n",
       "<table border=\"1\" class=\"dataframe\">\n",
       "  <thead>\n",
       "    <tr style=\"text-align: right;\">\n",
       "      <th></th>\n",
       "      <th>conversation_id</th>\n",
       "      <th>turn</th>\n",
       "      <th>speaker</th>\n",
       "      <th>text</th>\n",
       "      <th>text_length</th>\n",
       "      <th>sentence_length</th>\n",
       "      <th>readability</th>\n",
       "      <th>word_count</th>\n",
       "    </tr>\n",
       "  </thead>\n",
       "  <tbody>\n",
       "    <tr>\n",
       "      <th>0</th>\n",
       "      <td>0</td>\n",
       "      <td>0</td>\n",
       "      <td>Customer</td>\n",
       "      <td>Hi, Im interested in purchasing a new smartph...</td>\n",
       "      <td>87</td>\n",
       "      <td>8.0</td>\n",
       "      <td>80.28</td>\n",
       "      <td>16</td>\n",
       "    </tr>\n",
       "    <tr>\n",
       "      <th>1</th>\n",
       "      <td>0</td>\n",
       "      <td>1</td>\n",
       "      <td>Salesman</td>\n",
       "      <td>Of course, Id be happy to assist you. May I a...</td>\n",
       "      <td>105</td>\n",
       "      <td>10.5</td>\n",
       "      <td>86.20</td>\n",
       "      <td>21</td>\n",
       "    </tr>\n",
       "    <tr>\n",
       "      <th>2</th>\n",
       "      <td>0</td>\n",
       "      <td>2</td>\n",
       "      <td>Customer</td>\n",
       "      <td>Im looking for a laptop that can handle graph...</td>\n",
       "      <td>86</td>\n",
       "      <td>6.5</td>\n",
       "      <td>41.36</td>\n",
       "      <td>13</td>\n",
       "    </tr>\n",
       "    <tr>\n",
       "      <th>3</th>\n",
       "      <td>0</td>\n",
       "      <td>3</td>\n",
       "      <td>Salesman</td>\n",
       "      <td>Absolutely! In order to find the best laptop ...</td>\n",
       "      <td>159</td>\n",
       "      <td>13.5</td>\n",
       "      <td>52.53</td>\n",
       "      <td>27</td>\n",
       "    </tr>\n",
       "    <tr>\n",
       "      <th>4</th>\n",
       "      <td>0</td>\n",
       "      <td>4</td>\n",
       "      <td>Customer</td>\n",
       "      <td>Im considering upgrading my companys server. ...</td>\n",
       "      <td>81</td>\n",
       "      <td>6.0</td>\n",
       "      <td>48.47</td>\n",
       "      <td>12</td>\n",
       "    </tr>\n",
       "  </tbody>\n",
       "</table>\n",
       "</div>"
      ],
      "text/plain": [
       "   conversation_id  turn   speaker  \\\n",
       "0                0     0  Customer   \n",
       "1                0     1  Salesman   \n",
       "2                0     2  Customer   \n",
       "3                0     3  Salesman   \n",
       "4                0     4  Customer   \n",
       "\n",
       "                                                text  text_length  \\\n",
       "0   Hi, Im interested in purchasing a new smartph...           87   \n",
       "1   Of course, Id be happy to assist you. May I a...          105   \n",
       "2   Im looking for a laptop that can handle graph...           86   \n",
       "3   Absolutely! In order to find the best laptop ...          159   \n",
       "4   Im considering upgrading my companys server. ...           81   \n",
       "\n",
       "   sentence_length  readability  word_count  \n",
       "0              8.0        80.28          16  \n",
       "1             10.5        86.20          21  \n",
       "2              6.5        41.36          13  \n",
       "3             13.5        52.53          27  \n",
       "4              6.0        48.47          12  "
      ]
     },
     "execution_count": 60,
     "metadata": {},
     "output_type": "execute_result"
    }
   ],
   "source": [
    "# Group by conversation_id and sort by turn to have chronological ordering within each convo\n",
    "df_melted = df_melted.sort_values(by=['conversation_id', 'turn']).reset_index(drop=True)\n",
    "df_melted.head()"
   ]
  },
  {
   "cell_type": "markdown",
   "id": "ce975f3b-eccc-42cf-970c-39f449cd9473",
   "metadata": {},
   "source": [
    "**Shifting the Speaker Column:** Adding a new column that contains the next speaker for each row within each conversation to be able to see the current speaker and the following speaker side by side."
   ]
  },
  {
   "cell_type": "code",
   "execution_count": 61,
   "id": "d4d70a1c-546f-4ec7-910b-700a3caa9712",
   "metadata": {},
   "outputs": [],
   "source": [
    "# Shift the speaker column within each conversation to get the next speaker in sequence\n",
    "df_melted['next_speaker'] = df_melted.groupby('conversation_id')['speaker'].shift(-1)"
   ]
  },
  {
   "cell_type": "code",
   "execution_count": 62,
   "id": "8b2da713-37fd-48b6-ad71-666dce1f327f",
   "metadata": {},
   "outputs": [
    {
     "data": {
      "text/html": [
       "<div>\n",
       "<style scoped>\n",
       "    .dataframe tbody tr th:only-of-type {\n",
       "        vertical-align: middle;\n",
       "    }\n",
       "\n",
       "    .dataframe tbody tr th {\n",
       "        vertical-align: top;\n",
       "    }\n",
       "\n",
       "    .dataframe thead th {\n",
       "        text-align: right;\n",
       "    }\n",
       "</style>\n",
       "<table border=\"1\" class=\"dataframe\">\n",
       "  <thead>\n",
       "    <tr style=\"text-align: right;\">\n",
       "      <th></th>\n",
       "      <th>conversation_id</th>\n",
       "      <th>turn</th>\n",
       "      <th>speaker</th>\n",
       "      <th>text</th>\n",
       "      <th>text_length</th>\n",
       "      <th>sentence_length</th>\n",
       "      <th>readability</th>\n",
       "      <th>word_count</th>\n",
       "      <th>next_speaker</th>\n",
       "    </tr>\n",
       "  </thead>\n",
       "  <tbody>\n",
       "    <tr>\n",
       "      <th>0</th>\n",
       "      <td>0</td>\n",
       "      <td>0</td>\n",
       "      <td>Customer</td>\n",
       "      <td>Hi, Im interested in purchasing a new smartph...</td>\n",
       "      <td>87</td>\n",
       "      <td>8.0</td>\n",
       "      <td>80.28</td>\n",
       "      <td>16</td>\n",
       "      <td>Salesman</td>\n",
       "    </tr>\n",
       "    <tr>\n",
       "      <th>1</th>\n",
       "      <td>0</td>\n",
       "      <td>1</td>\n",
       "      <td>Salesman</td>\n",
       "      <td>Of course, Id be happy to assist you. May I a...</td>\n",
       "      <td>105</td>\n",
       "      <td>10.5</td>\n",
       "      <td>86.20</td>\n",
       "      <td>21</td>\n",
       "      <td>Customer</td>\n",
       "    </tr>\n",
       "    <tr>\n",
       "      <th>2</th>\n",
       "      <td>0</td>\n",
       "      <td>2</td>\n",
       "      <td>Customer</td>\n",
       "      <td>Im looking for a laptop that can handle graph...</td>\n",
       "      <td>86</td>\n",
       "      <td>6.5</td>\n",
       "      <td>41.36</td>\n",
       "      <td>13</td>\n",
       "      <td>Salesman</td>\n",
       "    </tr>\n",
       "    <tr>\n",
       "      <th>3</th>\n",
       "      <td>0</td>\n",
       "      <td>3</td>\n",
       "      <td>Salesman</td>\n",
       "      <td>Absolutely! In order to find the best laptop ...</td>\n",
       "      <td>159</td>\n",
       "      <td>13.5</td>\n",
       "      <td>52.53</td>\n",
       "      <td>27</td>\n",
       "      <td>Customer</td>\n",
       "    </tr>\n",
       "    <tr>\n",
       "      <th>4</th>\n",
       "      <td>0</td>\n",
       "      <td>4</td>\n",
       "      <td>Customer</td>\n",
       "      <td>Im considering upgrading my companys server. ...</td>\n",
       "      <td>81</td>\n",
       "      <td>6.0</td>\n",
       "      <td>48.47</td>\n",
       "      <td>12</td>\n",
       "      <td>Salesman</td>\n",
       "    </tr>\n",
       "  </tbody>\n",
       "</table>\n",
       "</div>"
      ],
      "text/plain": [
       "   conversation_id  turn   speaker  \\\n",
       "0                0     0  Customer   \n",
       "1                0     1  Salesman   \n",
       "2                0     2  Customer   \n",
       "3                0     3  Salesman   \n",
       "4                0     4  Customer   \n",
       "\n",
       "                                                text  text_length  \\\n",
       "0   Hi, Im interested in purchasing a new smartph...           87   \n",
       "1   Of course, Id be happy to assist you. May I a...          105   \n",
       "2   Im looking for a laptop that can handle graph...           86   \n",
       "3   Absolutely! In order to find the best laptop ...          159   \n",
       "4   Im considering upgrading my companys server. ...           81   \n",
       "\n",
       "   sentence_length  readability  word_count next_speaker  \n",
       "0              8.0        80.28          16     Salesman  \n",
       "1             10.5        86.20          21     Customer  \n",
       "2              6.5        41.36          13     Salesman  \n",
       "3             13.5        52.53          27     Customer  \n",
       "4              6.0        48.47          12     Salesman  "
      ]
     },
     "execution_count": 62,
     "metadata": {},
     "output_type": "execute_result"
    }
   ],
   "source": [
    "df_melted.head()"
   ]
  },
  {
   "cell_type": "markdown",
   "id": "3155cb94-3652-4d2c-abde-f375fd85a70e",
   "metadata": {},
   "source": [
    "**Transition Frequencies:** The occurrences of each type of transition (eg. Customer -> Salesman, Salesman -> Customer)."
   ]
  },
  {
   "cell_type": "code",
   "execution_count": 63,
   "id": "bdbef2f0-db4c-4809-821a-a1bacfa5b3de",
   "metadata": {},
   "outputs": [
    {
     "data": {
      "text/html": [
       "<div>\n",
       "<style scoped>\n",
       "    .dataframe tbody tr th:only-of-type {\n",
       "        vertical-align: middle;\n",
       "    }\n",
       "\n",
       "    .dataframe tbody tr th {\n",
       "        vertical-align: top;\n",
       "    }\n",
       "\n",
       "    .dataframe thead th {\n",
       "        text-align: right;\n",
       "    }\n",
       "</style>\n",
       "<table border=\"1\" class=\"dataframe\">\n",
       "  <thead>\n",
       "    <tr style=\"text-align: right;\">\n",
       "      <th>next_speaker</th>\n",
       "      <th>Customer</th>\n",
       "      <th>Salesman</th>\n",
       "    </tr>\n",
       "    <tr>\n",
       "      <th>speaker</th>\n",
       "      <th></th>\n",
       "      <th></th>\n",
       "    </tr>\n",
       "  </thead>\n",
       "  <tbody>\n",
       "    <tr>\n",
       "      <th>Customer</th>\n",
       "      <td>0</td>\n",
       "      <td>20927</td>\n",
       "    </tr>\n",
       "    <tr>\n",
       "      <th>Salesman</th>\n",
       "      <td>17516</td>\n",
       "      <td>0</td>\n",
       "    </tr>\n",
       "  </tbody>\n",
       "</table>\n",
       "</div>"
      ],
      "text/plain": [
       "next_speaker  Customer  Salesman\n",
       "speaker                         \n",
       "Customer             0     20927\n",
       "Salesman         17516         0"
      ]
     },
     "execution_count": 63,
     "metadata": {},
     "output_type": "execute_result"
    }
   ],
   "source": [
    "# How often each type of speaker transition occurs\n",
    "transition_counts = df_melted.groupby(['speaker', 'next_speaker']).size().unstack(fill_value=0)\n",
    "transition_counts"
   ]
  },
  {
   "cell_type": "markdown",
   "id": "1f20888d-113d-42c1-9f64-1f488da66b60",
   "metadata": {},
   "source": [
    "* There are no instances where a speaker repeats in consecutive turns.\n",
    "* There are 20927 instances where a customer speaks and the next turn is done by a salesman.\n",
    "* There are 17516 instances where a salesman speaks and the next turn is done by a customer.\n",
    "* There are more instances of Customer-Salesman transitions, though this difference may not be significant."
   ]
  },
  {
   "cell_type": "markdown",
   "id": "25e7dc5c-57a3-430e-8dff-8cd5d8aedc21",
   "metadata": {},
   "source": [
    "**Analyzing Patterns in Longer Speaker Sequences**\n",
    "\n",
    "Using trigrams to see frequent transitions in conversations beyond the 2D transition matrix.\n",
    "* Sequences of three consecutive turns."
   ]
  },
  {
   "cell_type": "code",
   "execution_count": 64,
   "id": "08e7b458-5d4b-4825-974c-78c730778036",
   "metadata": {},
   "outputs": [
    {
     "data": {
      "text/plain": [
       "Counter({('Customer', 'Salesman', 'Customer'): 17516,\n",
       "         ('Salesman', 'Customer', 'Salesman'): 17516})"
      ]
     },
     "execution_count": 64,
     "metadata": {},
     "output_type": "execute_result"
    }
   ],
   "source": [
    "# List of speakers in each convo\n",
    "speaker_sequences = df_melted.groupby('conversation_id')['speaker'].apply(list)\n",
    "\n",
    "# Generating all trigrams of speaker transitions in each convo\n",
    "trigrams = []\n",
    "for sequence in speaker_sequences:\n",
    "    trigrams.extend([(sequence[i], sequence[i + 1], sequence[i + 2]) for i in range(len(sequence) - 2)])\n",
    "\n",
    "# The frequency counts of each trigram\n",
    "trigram_counts = Counter(trigrams)\n",
    "trigram_counts"
   ]
  },
  {
   "cell_type": "code",
   "execution_count": 65,
   "id": "8ba20536-de49-4a84-a0f1-d6aad6bde3a2",
   "metadata": {},
   "outputs": [],
   "source": [
    "# New column indicating if the speaker is the same as the previous turn within each convo\n",
    "tmp = df_melted.copy()\n",
    "tmp['repeated_speaker'] = tmp.groupby('conversation_id')['speaker'].shift() == tmp['speaker']"
   ]
  },
  {
   "cell_type": "code",
   "execution_count": 66,
   "id": "3bf1730c-ead2-408b-8fec-cd7d689fef8b",
   "metadata": {},
   "outputs": [
    {
     "name": "stdout",
     "output_type": "stream",
     "text": [
      "Conversations with non-alternating speaker sequence: []\n"
     ]
    }
   ],
   "source": [
    "# Finding conversations that have any repeated speaker turns\n",
    "non_alternating_convos = tmp[tmp['repeated_speaker']].groupby('conversation_id').size()\n",
    "non_alternating_convos_ids = non_alternating_convos.index.tolist()\n",
    "\n",
    "print(f\"Conversations with non-alternating speaker sequence: {non_alternating_convos_ids}\")"
   ]
  },
  {
   "cell_type": "markdown",
   "id": "83ab2ab1-1a9a-4fb9-a84b-b85a21148c97",
   "metadata": {},
   "source": [
    "* Conversations strictly alternate between speakers in this dataset."
   ]
  },
  {
   "cell_type": "markdown",
   "id": "8395cfda-66e1-4214-a4a5-7f9ef59136d7",
   "metadata": {},
   "source": [
    "___"
   ]
  },
  {
   "cell_type": "markdown",
   "id": "f698b2c0-b064-45ab-a676-4dcfdea2ad55",
   "metadata": {},
   "source": [
    "## 6. Topic Frequency Analysis"
   ]
  },
  {
   "cell_type": "code",
   "execution_count": null,
   "id": "1cfc2c7c-1884-49cd-9a4c-56c777910b28",
   "metadata": {},
   "outputs": [],
   "source": [
    "# need to define topics"
   ]
  },
  {
   "cell_type": "code",
   "execution_count": null,
   "id": "bbcb4bb9-851a-4fba-86e4-9bf8b1837c73",
   "metadata": {},
   "outputs": [],
   "source": []
  },
  {
   "cell_type": "markdown",
   "id": "b4c054a1-7401-42e0-9122-3093e1c20dc0",
   "metadata": {},
   "source": [
    "___"
   ]
  },
  {
   "cell_type": "markdown",
   "id": "3de2ecbc-99c1-4331-bf50-e18660b241c2",
   "metadata": {},
   "source": [
    "## 7. Summary\n",
    "* Overall findings, key takeaways\n",
    "* Next steps"
   ]
  },
  {
   "cell_type": "code",
   "execution_count": null,
   "id": "776f45d9-1499-4554-a78e-a682cafe0500",
   "metadata": {},
   "outputs": [],
   "source": []
  },
  {
   "cell_type": "code",
   "execution_count": null,
   "id": "7b28e2a6-2b19-4452-a435-53cf80ac17fe",
   "metadata": {},
   "outputs": [],
   "source": []
  }
 ],
 "metadata": {
  "kernelspec": {
   "display_name": "Python 3 (ipykernel)",
   "language": "python",
   "name": "python3"
  },
  "language_info": {
   "codemirror_mode": {
    "name": "ipython",
    "version": 3
   },
   "file_extension": ".py",
   "mimetype": "text/x-python",
   "name": "python",
   "nbconvert_exporter": "python",
   "pygments_lexer": "ipython3",
   "version": "3.9.6"
  }
 },
 "nbformat": 4,
 "nbformat_minor": 5
}
