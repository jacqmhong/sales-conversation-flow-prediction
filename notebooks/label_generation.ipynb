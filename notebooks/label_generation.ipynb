{
 "cells": [
  {
   "cell_type": "markdown",
   "id": "449d446e-b8df-484a-8822-b6774ea24a45",
   "metadata": {},
   "source": [
    "# Label Generation\n",
    "\n",
    "This notebook covers the generation of three different categories.\n",
    "1. **Sentiment:** Labels to indicate the tone of each response (eg. positive, neutral, negative)\n",
    "2. **Conversation Stage:** The phase of the conversation (eg. introduction, info gathering, product discussion, etc.)\n",
    "3. **Response Type:** The nature of the specific response (eg. question, affirmation, objection, etc.)"
   ]
  },
  {
   "cell_type": "code",
   "execution_count": 1,
   "id": "9dffb9f3-86e1-40b4-970e-cede3c274cf7",
   "metadata": {},
   "outputs": [],
   "source": [
    "from collections import Counter\n",
    "import matplotlib.pyplot as plt\n",
    "import nltk\n",
    "from nltk.corpus import stopwords\n",
    "from nltk.sentiment import SentimentIntensityAnalyzer\n",
    "import pandas as pd\n",
    "import re\n",
    "import seaborn as sns"
   ]
  },
  {
   "cell_type": "code",
   "execution_count": 2,
   "id": "b2dddb54-7348-4f2d-8998-daf3dabb2d77",
   "metadata": {},
   "outputs": [
    {
     "data": {
      "text/html": [
       "<div>\n",
       "<style scoped>\n",
       "    .dataframe tbody tr th:only-of-type {\n",
       "        vertical-align: middle;\n",
       "    }\n",
       "\n",
       "    .dataframe tbody tr th {\n",
       "        vertical-align: top;\n",
       "    }\n",
       "\n",
       "    .dataframe thead th {\n",
       "        text-align: right;\n",
       "    }\n",
       "</style>\n",
       "<table border=\"1\" class=\"dataframe\">\n",
       "  <thead>\n",
       "    <tr style=\"text-align: right;\">\n",
       "      <th></th>\n",
       "      <th>conversation_id</th>\n",
       "      <th>turn</th>\n",
       "      <th>speaker</th>\n",
       "      <th>text</th>\n",
       "    </tr>\n",
       "  </thead>\n",
       "  <tbody>\n",
       "    <tr>\n",
       "      <th>0</th>\n",
       "      <td>0</td>\n",
       "      <td>0</td>\n",
       "      <td>Customer</td>\n",
       "      <td>Hi, Im interested in purchasing a new smartph...</td>\n",
       "    </tr>\n",
       "    <tr>\n",
       "      <th>1</th>\n",
       "      <td>1</td>\n",
       "      <td>0</td>\n",
       "      <td>Customer</td>\n",
       "      <td>Hi, Im interested in learning more about your...</td>\n",
       "    </tr>\n",
       "    <tr>\n",
       "      <th>2</th>\n",
       "      <td>2</td>\n",
       "      <td>0</td>\n",
       "      <td>Customer</td>\n",
       "      <td>Hi, Im interested in investing in the stock m...</td>\n",
       "    </tr>\n",
       "    <tr>\n",
       "      <th>3</th>\n",
       "      <td>3</td>\n",
       "      <td>0</td>\n",
       "      <td>Customer</td>\n",
       "      <td>Hello, Im interested in your financial planni...</td>\n",
       "    </tr>\n",
       "    <tr>\n",
       "      <th>4</th>\n",
       "      <td>4</td>\n",
       "      <td>0</td>\n",
       "      <td>Customer</td>\n",
       "      <td>Hi, Im interested in purchasing a new laptop....</td>\n",
       "    </tr>\n",
       "  </tbody>\n",
       "</table>\n",
       "</div>"
      ],
      "text/plain": [
       "   conversation_id  turn   speaker  \\\n",
       "0                0     0  Customer   \n",
       "1                1     0  Customer   \n",
       "2                2     0  Customer   \n",
       "3                3     0  Customer   \n",
       "4                4     0  Customer   \n",
       "\n",
       "                                                text  \n",
       "0   Hi, Im interested in purchasing a new smartph...  \n",
       "1   Hi, Im interested in learning more about your...  \n",
       "2   Hi, Im interested in investing in the stock m...  \n",
       "3   Hello, Im interested in your financial planni...  \n",
       "4   Hi, Im interested in purchasing a new laptop....  "
      ]
     },
     "execution_count": 2,
     "metadata": {},
     "output_type": "execute_result"
    }
   ],
   "source": [
    "# Load the reshaped data (from EDA.ipynb)\n",
    "df = pd.read_csv(\"../data/processed/sequential_convos.csv\")\n",
    "df.head()"
   ]
  },
  {
   "cell_type": "markdown",
   "id": "b0f3fccd-3510-45d1-be6d-222eef63bacd",
   "metadata": {},
   "source": [
    "___"
   ]
  },
  {
   "cell_type": "markdown",
   "id": "b447c0fd-a0bc-441f-94f2-dba2510b6db1",
   "metadata": {},
   "source": [
    "## Sentiment Labels\n",
    "* **Purpose:** To capture the tone of each response and provide context to the mood and engagement level of the conversation.\n",
    "* **Labels:**\n",
    "  * **Positive:** Speaker expresses agreement or enthusiasm.\n",
    "  * **Neutral:** Neither positive nor negative (e.g., factual questions or responses).\n",
    "  * **Negative:** Speaker expresses doubt, confusion, or dissatisfaction.\n",
    "* **How it is generated:** NLTK’s VADER sentiment analyzer will be utilized as it is commonly used for conversational text. The goal is to aid in understanding the tone of each response and speaker type."
   ]
  },
  {
   "cell_type": "code",
   "execution_count": 3,
   "id": "92164690-2bcd-4353-845f-9a749c915974",
   "metadata": {},
   "outputs": [
    {
     "name": "stderr",
     "output_type": "stream",
     "text": [
      "[nltk_data] Downloading package vader_lexicon to\n",
      "[nltk_data]     /Users/jacquelinehong/nltk_data...\n",
      "[nltk_data]   Package vader_lexicon is already up-to-date!\n"
     ]
    }
   ],
   "source": [
    "# Load NLTK's VADER sentiment analyzer\n",
    "nltk.download(\"vader_lexicon\")\n",
    "sia = SentimentIntensityAnalyzer()\n",
    "\n",
    "# Calculate sentiment scores for each snippet\n",
    "df[\"sentiment_score\"] = df[\"text\"].apply(lambda x: sia.polarity_scores(x)[\"compound\"])\n",
    "\n",
    "# Classify sentiment based on score range: Positive if score > 0.05, neutral if between -0.05 and 0.05, negative if < -0.05\n",
    "df[\"sentiment_label\"] = df[\"sentiment_score\"].apply(\n",
    "    lambda x: \"positive\" if x > 0.05 else (\"negative\" if x < -0.05 else \"neutral\"))"
   ]
  },
  {
   "cell_type": "code",
   "execution_count": 4,
   "id": "18ffb1ac-5753-4fbf-878a-9a06ad39461a",
   "metadata": {},
   "outputs": [
    {
     "data": {
      "text/html": [
       "<div>\n",
       "<style scoped>\n",
       "    .dataframe tbody tr th:only-of-type {\n",
       "        vertical-align: middle;\n",
       "    }\n",
       "\n",
       "    .dataframe tbody tr th {\n",
       "        vertical-align: top;\n",
       "    }\n",
       "\n",
       "    .dataframe thead th {\n",
       "        text-align: right;\n",
       "    }\n",
       "</style>\n",
       "<table border=\"1\" class=\"dataframe\">\n",
       "  <thead>\n",
       "    <tr style=\"text-align: right;\">\n",
       "      <th></th>\n",
       "      <th>conversation_id</th>\n",
       "      <th>turn</th>\n",
       "      <th>speaker</th>\n",
       "      <th>text</th>\n",
       "      <th>sentiment_score</th>\n",
       "      <th>sentiment_label</th>\n",
       "    </tr>\n",
       "  </thead>\n",
       "  <tbody>\n",
       "    <tr>\n",
       "      <th>0</th>\n",
       "      <td>0</td>\n",
       "      <td>0</td>\n",
       "      <td>Customer</td>\n",
       "      <td>Hi, Im interested in purchasing a new smartph...</td>\n",
       "      <td>0.8625</td>\n",
       "      <td>positive</td>\n",
       "    </tr>\n",
       "    <tr>\n",
       "      <th>1</th>\n",
       "      <td>1</td>\n",
       "      <td>0</td>\n",
       "      <td>Customer</td>\n",
       "      <td>Hi, Im interested in learning more about your...</td>\n",
       "      <td>0.4019</td>\n",
       "      <td>positive</td>\n",
       "    </tr>\n",
       "    <tr>\n",
       "      <th>2</th>\n",
       "      <td>2</td>\n",
       "      <td>0</td>\n",
       "      <td>Customer</td>\n",
       "      <td>Hi, Im interested in investing in the stock m...</td>\n",
       "      <td>0.6597</td>\n",
       "      <td>positive</td>\n",
       "    </tr>\n",
       "    <tr>\n",
       "      <th>3</th>\n",
       "      <td>3</td>\n",
       "      <td>0</td>\n",
       "      <td>Customer</td>\n",
       "      <td>Hello, Im interested in your financial planni...</td>\n",
       "      <td>0.4019</td>\n",
       "      <td>positive</td>\n",
       "    </tr>\n",
       "    <tr>\n",
       "      <th>4</th>\n",
       "      <td>4</td>\n",
       "      <td>0</td>\n",
       "      <td>Customer</td>\n",
       "      <td>Hi, Im interested in purchasing a new laptop....</td>\n",
       "      <td>0.6597</td>\n",
       "      <td>positive</td>\n",
       "    </tr>\n",
       "  </tbody>\n",
       "</table>\n",
       "</div>"
      ],
      "text/plain": [
       "   conversation_id  turn   speaker  \\\n",
       "0                0     0  Customer   \n",
       "1                1     0  Customer   \n",
       "2                2     0  Customer   \n",
       "3                3     0  Customer   \n",
       "4                4     0  Customer   \n",
       "\n",
       "                                                text  sentiment_score  \\\n",
       "0   Hi, Im interested in purchasing a new smartph...           0.8625   \n",
       "1   Hi, Im interested in learning more about your...           0.4019   \n",
       "2   Hi, Im interested in investing in the stock m...           0.6597   \n",
       "3   Hello, Im interested in your financial planni...           0.4019   \n",
       "4   Hi, Im interested in purchasing a new laptop....           0.6597   \n",
       "\n",
       "  sentiment_label  \n",
       "0        positive  \n",
       "1        positive  \n",
       "2        positive  \n",
       "3        positive  \n",
       "4        positive  "
      ]
     },
     "execution_count": 4,
     "metadata": {},
     "output_type": "execute_result"
    }
   ],
   "source": [
    "df.head()"
   ]
  },
  {
   "cell_type": "markdown",
   "id": "43d2d4b3-c55e-4beb-b57c-c7ff8144deb2",
   "metadata": {},
   "source": [
    "___"
   ]
  },
  {
   "cell_type": "markdown",
   "id": "1a71078f-3069-49d5-ae37-5dd98e20d2d8",
   "metadata": {},
   "source": [
    "### Conversation Stage Labels\n",
    "* **Purpose:** To indicate the general phase or purpose of each snippet in the conversation, aiming to identify a structured flow of the interaction.\n",
    "* **Labels:**\n",
    "    * **Introduction:** An early stage where one speaker is greeting the other or starting the conversation.\n",
    "    * **Information Gathering:** The Salesman asks questions to understand the Customer’s needs. It can also include the Customer asking questions, or the Customer provides responses or background information in reply to those questions.\n",
    "    * **Product Discussion:** Discussion specifically about product features, specifications, or recommendations.\n",
    "    * **Objection Handling:** The Salesman addresses any objections brought by the Customer.\n",
    "    * **Closing/Call to Action:** Salesman suggests a demo, purchase, or their next steps.\n",
    "    * **Other:** A category for snippets that do not fit in the other classes.\n",
    "* **How it is Generated:** Rule-based labeling is used with keywords. Conversation Stages are assigned based on matched keywords or phrases found in the conversation (eg. if they're asking about the Customer's needs, it will be labeled as \"Information Gathering\").\n",
    "    * The label generation goes through iterative refinement. The process is not entirely shown in this notebook due to its lengthy output, but all of the code is present.\n",
    "    * The function to label conversation_stage continuously gets words or phrases added according to what is found from manually reading example texts of each classification, with a deeper focus on the \"Other\" class, which covered nearly half of the dataset in its first iteration.\n",
    "    * The ordering of the elif statements is based on a typical conversation flow (eg. Intro --> Info Gathering --> Product Discussion --> Objection Handling --> Closing/Call to Action). This is to ensure that keywords related to early stages don't override keywords meant for later stages. By placing Introduction first, we can catch common intro phrases immediately, so they won't mistakenly fall into Information Gathering or another category."
   ]
  },
  {
   "cell_type": "code",
   "execution_count": 5,
   "id": "8d4e9178-5501-42b2-9724-1bd47db83447",
   "metadata": {},
   "outputs": [],
   "source": [
    "def label_conversation_stage(text):\n",
    "    text_lower = text.lower()\n",
    "\n",
    "    # Introduction keywords/phrases\n",
    "    if any(word in text_lower for word in [\"hello\", \"hi\", \"good morning\", \"how can i help\", \"interested in\", \"looking for\"]):\n",
    "        return \"Introduction\"\n",
    "\n",
    "    # Information Gathering\n",
    "    elif \"?\" in text_lower or any(word in text_lower for word in [\"tell me\", \"preferences\", \"considering\", \"can you\",\n",
    "                                                                  \"could you\", \"do you\", \"how can\"]):\n",
    "        return \"Information Gathering\"\n",
    " \n",
    "    # Product Discussion\n",
    "    elif any(word in text_lower for word in [\"product\", \"feature\", \"offer\", \"recommend\", \"suits your needs\", \"compare\",\n",
    "                                             \"specifications\", \"options\", \"features\", \"benefits\", \"includes\", \"comes with\",\n",
    "                                             \"designed for\", \"suitable for\"]):\n",
    "        return \"Product Discussion\"\n",
    " \n",
    "    # Objection Handling\n",
    "    elif any(word in text_lower for word in [\"not sure\", \"concern\", \"worry\", \"don’t understand\", \"too expensive\", \"issue\",\n",
    "                                             \"too costly\", \"outside my budget\", \"not confident\", \"hesitant\", \"another option\",\n",
    "                                             \"problem\", \"show me\", \"prove\", \"evidence\", \"track record\", \"risky\", \"doubtful\"]):\n",
    "        return \"Objection Handling\"\n",
    "\n",
    "    # Closing/Call to Action\n",
    "    elif any(word in text_lower for word in [\"demo\", \"schedule\", \"sign up\", \"purchase\", \"finalize\", \"next steps\", \"act now\",\n",
    "                                             \"limited offer\", \"special offer\", \"commit\", \"ready to move forward\", \"register\",\n",
    "                                             \"book a time\", \"place an order\", \"confirm\"]):\n",
    "        return \"Closing/Call to Action\"\n",
    "\n",
    "    # Entries that don’t match any stage\n",
    "    else:\n",
    "        return \"Other\""
   ]
  },
  {
   "cell_type": "code",
   "execution_count": 6,
   "id": "8de916fa-e088-40f7-bc7d-1b3383fdb8e4",
   "metadata": {},
   "outputs": [],
   "source": [
    "# Apply the labeling to the text column\n",
    "df['conversation_stage'] = df['text'].apply(label_conversation_stage)"
   ]
  },
  {
   "cell_type": "code",
   "execution_count": 7,
   "id": "3609cade-c790-4a14-91c1-4a5db46a7e12",
   "metadata": {},
   "outputs": [
    {
     "name": "stdout",
     "output_type": "stream",
     "text": [
      "\n",
      "Stage: Introduction\n",
      "    speaker                                               text\n",
      "0  Customer   Hi, Im interested in purchasing a new smartph...\n",
      "1  Customer   Hi, Im interested in learning more about your...\n",
      "2  Customer   Hi, Im interested in investing in the stock m...\n",
      "3  Customer   Hello, Im interested in your financial planni...\n",
      "4  Customer   Hi, Im interested in purchasing a new laptop....\n",
      "\n",
      "Stage: Information Gathering\n",
      "      speaker                                               text\n",
      "42   Customer   Im also concerned about the risk involved. Ho...\n",
      "288  Customer   What are some effective questioning technique...\n",
      "290  Customer   Ive been having trouble sleeping lately. Do y...\n",
      "293  Customer      What are the benefits of your health product?\n",
      "300  Customer   Tell me about your product and how it can hel...\n",
      "\n",
      "Stage: Product Discussion\n",
      "      speaker                                               text\n",
      "200  Customer   Im really frustrated with the current health ...\n",
      "204  Customer   Im really concerned about the reliability of ...\n",
      "232  Customer   Ive been having some issues with reliability ...\n",
      "234  Customer   Ive been having some issues with reliability ...\n",
      "260  Customer   Im having trouble finding a reliable tech pro...\n",
      "\n",
      "Stage: Other\n",
      "      speaker                                               text\n",
      "217  Customer   Yes, exactly. Ive had bad experiences in the ...\n",
      "229  Customer   Ive been having a lot of trouble finding a re...\n",
      "254  Customer   I have been experiencing a lot of back pain l...\n",
      "306  Customer       Ive been experiencing some back pain lately.\n",
      "311  Customer   Ive been experiencing a lot of back pain lately.\n",
      "\n",
      "Stage: Objection Handling\n",
      "      speaker                                               text\n",
      "247  Customer   I have been having issues with the reliabilit...\n",
      "385  Customer   I have some savings already, but Im not sure ...\n",
      "484  Customer   Im looking to invest some money in the stock ...\n",
      "623  Customer   Im not sure if I need your financial planning...\n",
      "670  Customer   Im looking to invest in the stock market but ...\n",
      "\n",
      "Stage: Closing/Call to Action\n",
      "       speaker                                               text\n",
      "1100  Customer    Im convinced. Ill make the purchase right away.\n",
      "1214  Customer   That sounds perfect. I appreciate your dedica...\n",
      "4254  Salesman   To capture the attention of potential custome...\n",
      "4280  Salesman   Understanding the importance of attention-gra...\n",
      "4387  Salesman   Absolutely! We pride ourselves on our advance...\n"
     ]
    }
   ],
   "source": [
    "# To read a few examples for each stage\n",
    "for stage in df['conversation_stage'].unique():\n",
    "    print(f\"\\nStage: {stage}\")\n",
    "    print(df[df['conversation_stage'] == stage][['speaker', 'text']].head())"
   ]
  },
  {
   "cell_type": "markdown",
   "id": "a59febd9-29ab-49da-8ad5-c1a49d13569a",
   "metadata": {},
   "source": [
    "### Conversation Stage Distribution"
   ]
  },
  {
   "cell_type": "code",
   "execution_count": 8,
   "id": "0453c211-72ee-485a-8995-39a6f66d8abb",
   "metadata": {},
   "outputs": [
    {
     "data": {
      "image/png": "[encoded data removed]",
      "text/plain": [
       "<Figure size 500x300 with 1 Axes>"
      ]
     },
     "metadata": {},
     "output_type": "display_data"
    }
   ],
   "source": [
    "plt.figure(figsize=(5,3))\n",
    "df['conversation_stage'].value_counts().plot(kind='bar')\n",
    "plt.title('Conversation Stage Counts')\n",
    "plt.xlabel('Conversation Stage')\n",
    "plt.ylabel('Count')\n",
    "plt.xticks(rotation=45)\n",
    "plt.legend(title='Speaker')\n",
    "plt.show()"
   ]
  },
  {
   "cell_type": "markdown",
   "id": "fcfa3d86-5e6d-41fa-9aa3-baa09fc99ed9",
   "metadata": {},
   "source": [
    "The above distribution seems reasonable, but there are some points to highlight:\n",
    "1. There are high proportions for Introduction and Information Gathering.\n",
    "    * This makes sense because Introduction and Information Gathering may be prominent to lay the groundwork for understanding the needs of Customers.\n",
    "    * This also suggests that the keywords for Introduction might be too general.\n",
    "2. There is a low count for Closing/Call to Action.\n",
    "    * This makes sense because not every conversation will lead to a closing action, but I have an assumption that this relates to the possible misclassifications contributing to the high Introduction count. It may also be misclassified as Product Discussion.\n",
    "\n",
    "To go beyond a personal project, I would go further in identifying better keywords."
   ]
  },
  {
   "cell_type": "markdown",
   "id": "6779ada4-9ee4-49e5-8f10-9b7c2928590a",
   "metadata": {},
   "source": [
    "### \"Other\" Exploration\n",
    "Below is the \"Other\" exploration I did in order to reduce its count to achieve the amount shown in the above distribution. I repeatedly altered the below code to find ways to modify words/phrases in the labeling function."
   ]
  },
  {
   "cell_type": "code",
   "execution_count": 9,
   "id": "d1680618-0488-4eb1-991f-eee5fad1bf92",
   "metadata": {},
   "outputs": [
    {
     "data": {
      "text/html": [
       "<div>\n",
       "<style scoped>\n",
       "    .dataframe tbody tr th:only-of-type {\n",
       "        vertical-align: middle;\n",
       "    }\n",
       "\n",
       "    .dataframe tbody tr th {\n",
       "        vertical-align: top;\n",
       "    }\n",
       "\n",
       "    .dataframe thead th {\n",
       "        text-align: right;\n",
       "    }\n",
       "</style>\n",
       "<table border=\"1\" class=\"dataframe\">\n",
       "  <thead>\n",
       "    <tr style=\"text-align: right;\">\n",
       "      <th></th>\n",
       "      <th>conversation_id</th>\n",
       "      <th>turn</th>\n",
       "      <th>speaker</th>\n",
       "      <th>text</th>\n",
       "      <th>sentiment_score</th>\n",
       "      <th>sentiment_label</th>\n",
       "      <th>conversation_stage</th>\n",
       "    </tr>\n",
       "  </thead>\n",
       "  <tbody>\n",
       "    <tr>\n",
       "      <th>217</th>\n",
       "      <td>217</td>\n",
       "      <td>0</td>\n",
       "      <td>Customer</td>\n",
       "      <td>Yes, exactly. Ive had bad experiences in the ...</td>\n",
       "      <td>0.0679</td>\n",
       "      <td>positive</td>\n",
       "      <td>Other</td>\n",
       "    </tr>\n",
       "    <tr>\n",
       "      <th>229</th>\n",
       "      <td>229</td>\n",
       "      <td>0</td>\n",
       "      <td>Customer</td>\n",
       "      <td>Ive been having a lot of trouble finding a re...</td>\n",
       "      <td>-0.4019</td>\n",
       "      <td>negative</td>\n",
       "      <td>Other</td>\n",
       "    </tr>\n",
       "    <tr>\n",
       "      <th>254</th>\n",
       "      <td>254</td>\n",
       "      <td>0</td>\n",
       "      <td>Customer</td>\n",
       "      <td>I have been experiencing a lot of back pain l...</td>\n",
       "      <td>-0.5106</td>\n",
       "      <td>negative</td>\n",
       "      <td>Other</td>\n",
       "    </tr>\n",
       "  </tbody>\n",
       "</table>\n",
       "</div>"
      ],
      "text/plain": [
       "     conversation_id  turn   speaker  \\\n",
       "217              217     0  Customer   \n",
       "229              229     0  Customer   \n",
       "254              254     0  Customer   \n",
       "\n",
       "                                                  text  sentiment_score  \\\n",
       "217   Yes, exactly. Ive had bad experiences in the ...           0.0679   \n",
       "229   Ive been having a lot of trouble finding a re...          -0.4019   \n",
       "254   I have been experiencing a lot of back pain l...          -0.5106   \n",
       "\n",
       "    sentiment_label conversation_stage  \n",
       "217        positive              Other  \n",
       "229        negative              Other  \n",
       "254        negative              Other  "
      ]
     },
     "execution_count": 9,
     "metadata": {},
     "output_type": "execute_result"
    }
   ],
   "source": [
    "other = df[df['conversation_stage']=='Other']\n",
    "other.head(3)"
   ]
  },
  {
   "cell_type": "code",
   "execution_count": 10,
   "id": "5cce1628-78aa-4fcb-9737-3c4e79818b80",
   "metadata": {},
   "outputs": [
    {
     "data": {
      "text/plain": [
       "speaker\n",
       "Salesman    2689\n",
       "Customer    1635\n",
       "Name: count, dtype: int64"
      ]
     },
     "execution_count": 10,
     "metadata": {},
     "output_type": "execute_result"
    }
   ],
   "source": [
    "other['speaker'].value_counts()"
   ]
  },
  {
   "cell_type": "code",
   "execution_count": 11,
   "id": "1354733f-634c-4e2b-bcc0-b4a4cb567b32",
   "metadata": {},
   "outputs": [
    {
     "name": "stdout",
     "output_type": "stream",
     "text": [
      " Yes, exactly. Ive had bad experiences in the past, so reliability is important to me.\n",
      "\n",
      " Ive been having a lot of trouble finding a reliable health supplement.\n",
      "\n",
      " I have been experiencing a lot of back pain lately. Its really affecting my daily activities.\n",
      "\n",
      " Ive been experiencing some back pain lately.\n",
      "\n",
      " Ive been experiencing a lot of back pain lately.\n",
      "\n",
      " The pain is moderate but persistent, and it has been going on for several months.\n",
      "\n",
      " I havent thought about it much. I want to maximize my returns but also minimize the risks involved.\n",
      "\n",
      " Ive been having trouble sleeping lately.\n",
      "\n",
      " Im really struggling with my weight and cant seem to find a solution.\n",
      "\n",
      " I have a moderate risk tolerance, and Im looking to invest for the long term, at least 10 years.\n",
      "\n",
      " Im willing to take on moderate risk, and I plan to invest for the long term.\n",
      "\n",
      " Well, I have some savings, but Im worried about inflation and market fluctuations affecting my retirement funds.\n",
      "\n",
      " Ive been experiencing some back pain lately.\n",
      "\n",
      " I appreciate that. Its important for me to fully grasp what Im getting into before making any decisions.\n",
      "\n",
      " That sounds good. I appreciate your approach.\n",
      "\n",
      " I prefer a quick and concise presentation with just the main points.\n",
      "\n",
      " I like it when salespeople get straight to the point. I dont have time for long conversations.\n",
      "\n",
      " I like it when salespeople get straight to the point.\n",
      "\n",
      " I like it when salespeople get straight to the point and dont beat around the bush.\n",
      "\n",
      " Ive been struggling to lose weight and keep it off.\n",
      "\n"
     ]
    }
   ],
   "source": [
    "for text in other['text'][:20]:\n",
    "    print(text+\"\\n\")"
   ]
  },
  {
   "cell_type": "markdown",
   "id": "2db6a74e-8396-49cf-b5d5-5db4563fcb3a",
   "metadata": {},
   "source": [
    "**Most Common Words in \"Other\" Category**"
   ]
  },
  {
   "cell_type": "code",
   "execution_count": 12,
   "id": "fc5c6d21-bb1f-46ee-92e7-c78fd6aac2b0",
   "metadata": {},
   "outputs": [
    {
     "name": "stderr",
     "output_type": "stream",
     "text": [
      "[nltk_data] Downloading package stopwords to\n",
      "[nltk_data]     /Users/jacquelinehong/nltk_data...\n",
      "[nltk_data]   Package stopwords is already up-to-date!\n"
     ]
    },
    {
     "data": {
      "text/html": [
       "<div>\n",
       "<style scoped>\n",
       "    .dataframe tbody tr th:only-of-type {\n",
       "        vertical-align: middle;\n",
       "    }\n",
       "\n",
       "    .dataframe tbody tr th {\n",
       "        vertical-align: top;\n",
       "    }\n",
       "\n",
       "    .dataframe thead th {\n",
       "        text-align: right;\n",
       "    }\n",
       "</style>\n",
       "<table border=\"1\" class=\"dataframe\">\n",
       "  <thead>\n",
       "    <tr style=\"text-align: right;\">\n",
       "      <th></th>\n",
       "      <th>word</th>\n",
       "      <th>frequency</th>\n",
       "    </tr>\n",
       "  </thead>\n",
       "  <tbody>\n",
       "    <tr>\n",
       "      <th>0</th>\n",
       "      <td>im</td>\n",
       "      <td>647</td>\n",
       "    </tr>\n",
       "    <tr>\n",
       "      <th>1</th>\n",
       "      <td>understand</td>\n",
       "      <td>628</td>\n",
       "    </tr>\n",
       "    <tr>\n",
       "      <th>2</th>\n",
       "      <td>absolutely</td>\n",
       "      <td>591</td>\n",
       "    </tr>\n",
       "    <tr>\n",
       "      <th>3</th>\n",
       "      <td>provide</td>\n",
       "      <td>487</td>\n",
       "    </tr>\n",
       "    <tr>\n",
       "      <th>4</th>\n",
       "      <td>lets</td>\n",
       "      <td>487</td>\n",
       "    </tr>\n",
       "    <tr>\n",
       "      <th>5</th>\n",
       "      <td>communication</td>\n",
       "      <td>482</td>\n",
       "    </tr>\n",
       "    <tr>\n",
       "      <th>6</th>\n",
       "      <td>financial</td>\n",
       "      <td>479</td>\n",
       "    </tr>\n",
       "    <tr>\n",
       "      <th>7</th>\n",
       "      <td>let</td>\n",
       "      <td>459</td>\n",
       "    </tr>\n",
       "    <tr>\n",
       "      <th>8</th>\n",
       "      <td>important</td>\n",
       "      <td>430</td>\n",
       "    </tr>\n",
       "    <tr>\n",
       "      <th>9</th>\n",
       "      <td>make</td>\n",
       "      <td>417</td>\n",
       "    </tr>\n",
       "    <tr>\n",
       "      <th>10</th>\n",
       "      <td>ive</td>\n",
       "      <td>375</td>\n",
       "    </tr>\n",
       "    <tr>\n",
       "      <th>11</th>\n",
       "      <td>customers</td>\n",
       "      <td>358</td>\n",
       "    </tr>\n",
       "    <tr>\n",
       "      <th>12</th>\n",
       "      <td>ensure</td>\n",
       "      <td>352</td>\n",
       "    </tr>\n",
       "    <tr>\n",
       "      <th>13</th>\n",
       "      <td>investment</td>\n",
       "      <td>326</td>\n",
       "    </tr>\n",
       "    <tr>\n",
       "      <th>14</th>\n",
       "      <td>help</td>\n",
       "      <td>325</td>\n",
       "    </tr>\n",
       "    <tr>\n",
       "      <th>15</th>\n",
       "      <td>needs</td>\n",
       "      <td>324</td>\n",
       "    </tr>\n",
       "    <tr>\n",
       "      <th>16</th>\n",
       "      <td>information</td>\n",
       "      <td>298</td>\n",
       "    </tr>\n",
       "    <tr>\n",
       "      <th>17</th>\n",
       "      <td>language</td>\n",
       "      <td>285</td>\n",
       "    </tr>\n",
       "    <tr>\n",
       "      <th>18</th>\n",
       "      <td>ill</td>\n",
       "      <td>279</td>\n",
       "    </tr>\n",
       "    <tr>\n",
       "      <th>19</th>\n",
       "      <td>approach</td>\n",
       "      <td>251</td>\n",
       "    </tr>\n",
       "  </tbody>\n",
       "</table>\n",
       "</div>"
      ],
      "text/plain": [
       "             word  frequency\n",
       "0              im        647\n",
       "1      understand        628\n",
       "2      absolutely        591\n",
       "3         provide        487\n",
       "4            lets        487\n",
       "5   communication        482\n",
       "6       financial        479\n",
       "7             let        459\n",
       "8       important        430\n",
       "9            make        417\n",
       "10            ive        375\n",
       "11      customers        358\n",
       "12         ensure        352\n",
       "13     investment        326\n",
       "14           help        325\n",
       "15          needs        324\n",
       "16    information        298\n",
       "17       language        285\n",
       "18            ill        279\n",
       "19       approach        251"
      ]
     },
     "execution_count": 12,
     "metadata": {},
     "output_type": "execute_result"
    }
   ],
   "source": [
    "# Tokenize the text and count word frequencies\n",
    "all_words = [word.lower() for text in other['text'] for word in re.findall(r'\\b\\w+\\b', text)] # regex to remove punctuation\n",
    "\n",
    "# Count the most common words\n",
    "word_counts = Counter(all_words)\n",
    "\n",
    "# Remove stopwords from word count\n",
    "nltk.download('stopwords')\n",
    "stop_words = set(stopwords.words('english'))\n",
    "filtered_word_counts = {word: count for word, count in word_counts.items() if word not in stop_words}\n",
    "\n",
    "# The top 20 most common words\n",
    "common_words_other = Counter(filtered_word_counts).most_common(20)\n",
    "pd.DataFrame(common_words_other, columns=['word', 'frequency'])"
   ]
  },
  {
   "cell_type": "markdown",
   "id": "ee92bb44-2cc8-4ea2-9ebd-ea63435a35d4",
   "metadata": {},
   "source": [
    "**Checking specific words within the above list, modifying the word each time.**"
   ]
  },
  {
   "cell_type": "code",
   "execution_count": 13,
   "id": "acbd17e9-4a78-4643-8557-e485ee1539b4",
   "metadata": {},
   "outputs": [
    {
     "name": "stdout",
     "output_type": "stream",
     "text": [
      " Im having trouble understanding some of the sales pitches Ive been hearing.\n",
      "\n",
      " Good to hear. I believe that would enhance my understanding and build trust.\n",
      "\n",
      " I dont understand why negotiation and conflict resolution skills are important in sales.\n",
      "\n",
      " I dont understand why negotiation and conflict resolution skills are important in sales.\n",
      "\n",
      " I dont understand why negotiation and conflict resolution skills are important in the health industry.\n",
      "\n",
      " Absolutely! Id be happy to assist you. Lets start by building a rapport and understanding your investment goals and needs.\n",
      "\n",
      " I completely understand your interest in the stock market. It can be overwhelming for beginners, but Im here to guide you through the process.\n",
      "\n",
      " Absolutely. Its important to us that you fully understand our services. Let me break it down for you in simple terms...\n",
      "\n",
      " Definitely. We want to ensure that you have a clear understanding of our services and how they can benefit you.\n",
      "\n",
      " Thats great to hear! Investing in the stock market can be a lucrative opportunity. Let me explain the basics in simple terms so you can easily understand.\n",
      "\n",
      " Thank you! Building trust and ensuring understanding is crucial to our success.\n",
      "\n",
      " I completely understand. Ill make sure to provide you with concise and clear information.\n",
      "\n",
      " I completely understand. I will make sure to present the information in a clear and concise manner.\n",
      "\n",
      " Absolutely! Let me share a story with you. We recently had a client who was struggling with managing their investments. They were uncertain about where to invest and how to optimize their portfolio. Our team worked closely with them to understand their financial goals and risk tolerance. We then crafted a custom investment strategy that aligned with their objectives. As a result, they not only saw significant growth in their investments but also gained peace of mind knowing that their financial future was secure.\n",
      "\n",
      " Absolutely! Let me share a story with you. I recently worked with a client who was unsure about how to plan for retirement. Together, we identified her financial goals and created a personalized plan that included investments and savings strategies. By the end of our journey, she was not only confident about her retirement but also excited about the possibilities. Our approach is to understand your unique needs and aspirations, just like we did with her.\n",
      "\n",
      " Great question! One of our unique selling points is our personalized approach to financial planning. We take the time to understand each clients individual goals and tailor our strategies accordingly.\n",
      "\n",
      " Our unique selling points include our personalized approach to financial planning and our team of experienced advisors. We take the time to understand your individual needs and goals, and tailor our solutions accordingly.\n",
      "\n",
      " I completely understand how you feel. Many of our customers have experienced a significant increase in energy after using our health supplements. They often mention feeling revitalized and having a renewed sense of energy throughout the day.\n",
      "\n",
      " Understanding your desire to invest, let me introduce you to our portfolio management services. We have a team of experienced professionals who can guide you through the process and help you make informed investment decisions.\n",
      "\n",
      " Understandable. Let me tell you about the unique selling points of our latest laptop models.\n",
      "\n"
     ]
    }
   ],
   "source": [
    "for text in other[other['text'].str.contains(\"understand\", case=False, na=False)][\"text\"][:20]:\n",
    "    print(text+\"\\n\")"
   ]
  },
  {
   "cell_type": "markdown",
   "id": "3b13b961-a7cb-4d2b-b427-8d1cf68ee26e",
   "metadata": {},
   "source": [
    "**End:** After a number of iterations, the \"Other\" count has decreased to a moderate size. A further reduction could lead to mislabeling and a distortion of the dataset's quality."
   ]
  },
  {
   "cell_type": "markdown",
   "id": "23135d07-8a7c-4f8a-a313-84bd91d4cafc",
   "metadata": {},
   "source": [
    "___"
   ]
  },
  {
   "cell_type": "markdown",
   "id": "9907a08d-40ae-40bb-8ce0-75ea6a7f01ee",
   "metadata": {},
   "source": [
    "## Response Type\n",
    "* **Purpose:** To describe the nature or intent of each response, providing an idea of how speakers react within each stage (eg. question, objection).\n",
    "* **Labels:**\n",
    "    * **Question:** An inquiry or request for information, typically a signal of a need for more details. Speaker seeks new info.\n",
    "    * **Affirmation:** Agreement or confirmation, suggesting the speaker is in favor of the topic.\n",
    "    * **Disagreement:** Opposition, hesitation, or a negative stance.\n",
    "    * **Clarification:** Speaker attempts to understand or confirm something that has already been mentioned.\n",
    "    * **Explanation:** Providing additional information, examples, or details to aid the recipient's understanding.\n",
    "    * **Objection:** A display of concern, doubt, or issues regarding the topic.\n",
    "    * **Suggestion/Recommendation:** Advice is offered or an idea is proposed, involving potential solutions.\n",
    "    * **Acknowledgment:** Indication of understanding or recognition of the previous statement without necessarily agreeing or disagreeing.\n",
    "    * **Request for Action:** A specific response is asked for from the other speaker, often prompting a next step.\n",
    "    * **Other:** A category for snippets that do not fit in the other classes.\n",
    "* **How it is Generated:** Rule-based labeling is used with keywords. Response Types are assigned based on matched keywords or phrases found in the conversation (eg. if they're giving an example, it will be labeled as \"Explanation\").\n",
    "    * The label generation goes through iterative refinement. The process is not entirely shown in this notebook due to its lengthy output, but all of the code is present.\n",
    "    * The function to label response_type continuously gets words or phrases added or modified according to what is found from manually reading example texts of each classification, with a deeper focus on the \"Other\" class, which covered nearly half of the dataset in its first iteration.\n",
    "    * The elif statements are ordered to prioritize common, straightforward responses like Question and Affirmation first, since they are often more frequent and clear in conversations. Types that might have overlapping phrases (like Clarification and Explanation) follow after to reduce the chance of mislabeling. The more specific intents are placed last to catch more unique and purposeful responses without overriding the earlier ones (eg. Request for Action)."
   ]
  },
  {
   "cell_type": "code",
   "execution_count": 14,
   "id": "46f48c6c-b964-4124-9c79-d96415f80096",
   "metadata": {},
   "outputs": [],
   "source": [
    "def label_response_type(text):\n",
    "    text_lower = text.lower()  # Convert text to lowercase for consistent matching\n",
    "    if \"?\" in text_lower or any(word in text_lower for word in [\"could you\", \"can you\", \"do you\", \"would you\"]):\n",
    "        return \"Question\"\n",
    "    elif any(word in text_lower for word in [\"yes\", \"i agree\", \"sounds good\", \"exactly\", \"of course\"]):\n",
    "        return \"Affirmation\"\n",
    "    elif any(word in text_lower for word in [\"no\", \"don't think\", \"disagree\", \"not sure\", \"doesn't work\"]):\n",
    "        return \"Disagreement\"\n",
    "    elif any(word in text_lower for word in [\"clarify\", \"explain more\", \"elaborate\", \"could you explain\", \"understand\"]):\n",
    "        return \"Clarification\"\n",
    "    elif any(word in text_lower for word in [\"let me explain\", \"to clarify\", \"this means\", \"for example\", \"in other words\"]):\n",
    "        return \"Explanation\"\n",
    "    elif any(word in text_lower for word in [\"concern\", \"hesitant\", \"issue\", \"problem\", \"not convinced\", \"worry\", \"risk\"]):\n",
    "        return \"Objection\"\n",
    "    elif any(word in text_lower for word in [\"recommend\", \"suggest\", \"consider\", \"you should\", \"why not\", \"how about\"]):\n",
    "        return \"Suggestion/Recommendation\"\n",
    "    elif any(word in text_lower for word in [\"okay\", \"i see\", \"got it\", \"understand\"]):\n",
    "        return \"Acknowledgment\"\n",
    "    elif any(word in text_lower for word in [\"schedule\", \"book\", \"set up\", \"send me\", \"provide\", \"assist\"]):\n",
    "        return \"Request for Action\"\n",
    "    else:\n",
    "        return \"Other\""
   ]
  },
  {
   "cell_type": "code",
   "execution_count": 15,
   "id": "5cec719f-425f-41eb-be14-ee045c3e03ff",
   "metadata": {},
   "outputs": [],
   "source": [
    "# Apply the labeling to the text column\n",
    "df['response_type'] = df['text'].apply(label_response_type)"
   ]
  },
  {
   "cell_type": "code",
   "execution_count": 16,
   "id": "3ec00ffb-08e4-4c19-ac73-b044f2edf1c3",
   "metadata": {},
   "outputs": [
    {
     "data": {
      "text/plain": [
       "10"
      ]
     },
     "execution_count": 16,
     "metadata": {},
     "output_type": "execute_result"
    }
   ],
   "source": [
    "df['response_type'].nunique()"
   ]
  },
  {
   "cell_type": "code",
   "execution_count": 17,
   "id": "81c66883-307a-42e3-8fa8-6e65dc008f32",
   "metadata": {},
   "outputs": [
    {
     "name": "stdout",
     "output_type": "stream",
     "text": [
      "\n",
      "Type: Question\n",
      "    speaker                                               text\n",
      "0  Customer   Hi, Im interested in purchasing a new smartph...\n",
      "2  Customer   Hi, Im interested in investing in the stock m...\n",
      "4  Customer   Hi, Im interested in purchasing a new laptop....\n",
      "6  Customer   Hi, Im interested in purchasing a new laptop....\n",
      "7  Customer   Im looking for a new healthcare provider. Can...\n",
      "\n",
      "Type: Other\n",
      "     speaker                                               text\n",
      "1   Customer   Hi, Im interested in learning more about your...\n",
      "3   Customer   Hello, Im interested in your financial planni...\n",
      "5   Customer   Hi, Im interested in your financial planning ...\n",
      "8   Customer   Hi, Im interested in your financial planning ...\n",
      "12  Customer   Hi, Im interested in your financial planning ...\n",
      "\n",
      "Type: Disagreement\n",
      "      speaker                                               text\n",
      "15   Customer   Im interested in purchasing a new laptop, but...\n",
      "16   Customer   Hi there! Im in the market for a new laptop, ...\n",
      "302  Customer   Im interested in buying a new laptop, but Im ...\n",
      "309  Customer   Im interested in purchasing a new laptop, but...\n",
      "317  Customer   Im interested in investing in the stock marke...\n",
      "\n",
      "Type: Objection\n",
      "      speaker                                               text\n",
      "189  Customer   Im really concerned about the side effects of...\n",
      "192  Customer   Im really concerned about the side effects of...\n",
      "193  Customer   Im really concerned about the side effects of...\n",
      "194  Customer   Im looking for a reliable investment opportun...\n",
      "195  Customer   Im looking for a reliable product that wont g...\n",
      "\n",
      "Type: Affirmation\n",
      "      speaker                                               text\n",
      "217  Customer   Yes, exactly. Ive had bad experiences in the ...\n",
      "291  Customer   Yes, Ive tried using heating pads and doing s...\n",
      "449  Customer                 Yes, please tell me more about it.\n",
      "480  Customer      That sounds good. I appreciate your approach.\n",
      "917  Customer   Yes, please. I would love to hear about other...\n",
      "\n",
      "Type: Clarification\n",
      "       speaker                                               text\n",
      "425   Customer   Im really interested in improving my health, ...\n",
      "572   Customer   I prefer a direct and straightforward approac...\n",
      "683   Customer   I understand. Ill take all of this into accou...\n",
      "1401  Customer   Im looking for a financial advisor who really...\n",
      "1435  Customer   Im looking for a financial advisor who really...\n",
      "\n",
      "Type: Request for Action\n",
      "       speaker                                               text\n",
      "552   Customer   Im looking for a financial product that can p...\n",
      "1824  Customer   Im looking for investment options that can pr...\n",
      "1867  Customer   Thank you for your assistance. Im convinced t...\n",
      "2935  Customer   I would like to provide some feedback on the ...\n",
      "2988  Customer   I think you could have provided more examples...\n",
      "\n",
      "Type: Suggestion/Recommendation\n",
      "       speaker                                               text\n",
      "836   Customer   Im interested in your product, but Im also co...\n",
      "2073  Customer   I appreciate your explanation. I will take so...\n",
      "2948  Customer   I have some suggestions on how we can improve...\n",
      "3812  Salesman   Great! For your needs, I recommend our XYZ mo...\n",
      "3825  Salesman   Great! I suggest trying our new line of organ...\n",
      "\n",
      "Type: Explanation\n",
      "       speaker                                               text\n",
      "3634  Salesman   I hear your concerns about the side effects. ...\n",
      "3849  Salesman   Absolutely! We have a range of products that ...\n",
      "3852  Salesman   Thats great to hear! Our products are specifi...\n",
      "3870  Salesman   Absolutely! Our tech product is designed to s...\n",
      "4206  Salesman   To grab the attention of potential customers,...\n",
      "\n",
      "Type: Acknowledgment\n",
      "        speaker                                               text\n",
      "5219   Salesman   I see. Lets explore some other options together.\n",
      "10574  Salesman   Got it. Based on your situation, we can explo...\n",
      "10720  Salesman   Got it. Ill make sure to focus on the key fea...\n",
      "12012  Salesman   I see. Lets explore some other stress managem...\n",
      "12555  Salesman   Got it. Let me show you some models that have...\n"
     ]
    }
   ],
   "source": [
    "# To read a few examples of each type\n",
    "for resp_type in df['response_type'].unique():\n",
    "    print(f\"\\nType: {resp_type}\")\n",
    "    print(df[df['response_type'] == resp_type][['speaker', 'text']].head())"
   ]
  },
  {
   "cell_type": "markdown",
   "id": "ae0dfd4e-4698-4d4b-8ede-ba9e344992f4",
   "metadata": {},
   "source": [
    "### Response Type Distribution"
   ]
  },
  {
   "cell_type": "code",
   "execution_count": 18,
   "id": "8631f8f7-09ea-41fe-867c-89cc35bd50d3",
   "metadata": {},
   "outputs": [
    {
     "data": {
      "image/png": "[encoded data removed]",
      "text/plain": [
       "<Figure size 500x300 with 1 Axes>"
      ]
     },
     "metadata": {},
     "output_type": "display_data"
    }
   ],
   "source": [
    "plt.figure(figsize=(5,3))\n",
    "df['response_type'].value_counts().plot(kind='bar')\n",
    "plt.title('Response Type Counts')\n",
    "plt.xlabel('Response Type')\n",
    "plt.ylabel('Count')\n",
    "plt.xticks(rotation=75)\n",
    "plt.legend(title='Speaker')\n",
    "plt.show()"
   ]
  },
  {
   "cell_type": "markdown",
   "id": "6751dd89-c47f-4407-8dbf-74931dd76657",
   "metadata": {},
   "source": [
    "The above distribution seems reasonable. Some areas to note:\n",
    "1. Question is the most common response type by a large margin. This makes sense in a sales or customer support conversation where Customers often seek additional information. This suggests that information-seeking behavior is dominant in the dataset.\n",
    "2. The Other response type is the second highest, possibly indicating that the complexity of some responses is beyond the current labels.\n",
    "3. Disagreement and Clarification are fairly high, which may indicate active dialogue and information-seeking trends.\n",
    "4. Request for Action is also decently sized, which displays a good amount of direct requests within interactions."
   ]
  },
  {
   "cell_type": "markdown",
   "id": "b8b3dae8-6f2f-48ac-bc4b-3e5a1648a5ca",
   "metadata": {},
   "source": [
    "**Response Type by Speaker**"
   ]
  },
  {
   "cell_type": "code",
   "execution_count": 19,
   "id": "2d85dd44-d8bb-4b06-aca9-3b25a96001bf",
   "metadata": {},
   "outputs": [
    {
     "data": {
      "text/plain": [
       "speaker   response_type            \n",
       "Customer  Acknowledgment                   2\n",
       "Salesman  Acknowledgment                  19\n",
       "Customer  Affirmation                    200\n",
       "Salesman  Affirmation                   1142\n",
       "Customer  Clarification                  157\n",
       "Salesman  Clarification                 3516\n",
       "Customer  Disagreement                  2263\n",
       "Salesman  Disagreement                  2248\n",
       "Customer  Explanation                      7\n",
       "Salesman  Explanation                    242\n",
       "Customer  Objection                      746\n",
       "Salesman  Objection                     1454\n",
       "Customer  Other                         2808\n",
       "Salesman  Other                         3903\n",
       "Customer  Question                     14581\n",
       "Salesman  Question                      6888\n",
       "Customer  Request for Action              85\n",
       "Salesman  Request for Action            1182\n",
       "Customer  Suggestion/Recommendation       78\n",
       "Salesman  Suggestion/Recommendation      333\n",
       "Name: count, dtype: int64"
      ]
     },
     "execution_count": 19,
     "metadata": {},
     "output_type": "execute_result"
    }
   ],
   "source": [
    "df[['speaker', 'response_type']].value_counts().sort_index(level='response_type')"
   ]
  },
  {
   "cell_type": "code",
   "execution_count": 20,
   "id": "08ccbcb1-7a1e-412d-8d36-23f81d4eb76a",
   "metadata": {},
   "outputs": [
    {
     "data": {
      "text/plain": [
       "<Figure size 500x300 with 0 Axes>"
      ]
     },
     "metadata": {},
     "output_type": "display_data"
    },
    {
     "data": {
      "image/png": "[encoded data removed]",
      "text/plain": [
       "<Figure size 640x480 with 1 Axes>"
      ]
     },
     "metadata": {},
     "output_type": "display_data"
    }
   ],
   "source": [
    "plt.figure(figsize=(5, 3))\n",
    "df.groupby(['response_type', 'speaker']).size().unstack().plot(kind='bar')\n",
    "plt.title('Response Type Counts by Speaker')\n",
    "plt.xlabel('Response Type')\n",
    "plt.ylabel('Count')\n",
    "plt.xticks(rotation=45)\n",
    "plt.legend(title='Speaker')\n",
    "plt.show()"
   ]
  },
  {
   "cell_type": "markdown",
   "id": "6e1559e5-ceb6-41d6-bba6-f234da3fa93c",
   "metadata": {},
   "source": [
    "**Observations:**\n",
    "* **Questions:** Customers ask a larger portion of the questions. This indicates a customer-driven inquiry focus.\n",
    "* **Clarification:** Salesmen hold most of this response type, possibly reflecting their role in addressing customer misunderstandings.\n",
    "* **Disagreement:** It is pretty even. Disagreement from Salesmen may be for countering objections.\n",
    "* **Affirmation and Acknowledgment:** These types are mostly used by Salesmen, possibly due to them confirming understanding or agreeing with the Customer.\n",
    "* **Request for Action:** Requests for Action are more common for Salesmen. This aligns with typical sales dynamics."
   ]
  },
  {
   "cell_type": "markdown",
   "id": "35d9ef79-6816-4a2e-803c-20a0712b2999",
   "metadata": {},
   "source": [
    "### \"Other\" Exploration\n",
    "Below is the \"Other\" exploration I did in order to reduce its count to achieve the amount shown in the above distribution. I repeatedly altered the below code to find ways to modify words/phrases in the labeling function."
   ]
  },
  {
   "cell_type": "code",
   "execution_count": 21,
   "id": "ce473599-c022-48ea-a20a-d59bb0c0a09c",
   "metadata": {},
   "outputs": [
    {
     "data": {
      "text/html": [
       "<div>\n",
       "<style scoped>\n",
       "    .dataframe tbody tr th:only-of-type {\n",
       "        vertical-align: middle;\n",
       "    }\n",
       "\n",
       "    .dataframe tbody tr th {\n",
       "        vertical-align: top;\n",
       "    }\n",
       "\n",
       "    .dataframe thead th {\n",
       "        text-align: right;\n",
       "    }\n",
       "</style>\n",
       "<table border=\"1\" class=\"dataframe\">\n",
       "  <thead>\n",
       "    <tr style=\"text-align: right;\">\n",
       "      <th></th>\n",
       "      <th>conversation_id</th>\n",
       "      <th>turn</th>\n",
       "      <th>speaker</th>\n",
       "      <th>text</th>\n",
       "      <th>sentiment_score</th>\n",
       "      <th>sentiment_label</th>\n",
       "      <th>conversation_stage</th>\n",
       "      <th>response_type</th>\n",
       "    </tr>\n",
       "  </thead>\n",
       "  <tbody>\n",
       "    <tr>\n",
       "      <th>1</th>\n",
       "      <td>1</td>\n",
       "      <td>0</td>\n",
       "      <td>Customer</td>\n",
       "      <td>Hi, Im interested in learning more about your...</td>\n",
       "      <td>0.4019</td>\n",
       "      <td>positive</td>\n",
       "      <td>Introduction</td>\n",
       "      <td>Other</td>\n",
       "    </tr>\n",
       "    <tr>\n",
       "      <th>3</th>\n",
       "      <td>3</td>\n",
       "      <td>0</td>\n",
       "      <td>Customer</td>\n",
       "      <td>Hello, Im interested in your financial planni...</td>\n",
       "      <td>0.4019</td>\n",
       "      <td>positive</td>\n",
       "      <td>Introduction</td>\n",
       "      <td>Other</td>\n",
       "    </tr>\n",
       "    <tr>\n",
       "      <th>5</th>\n",
       "      <td>5</td>\n",
       "      <td>0</td>\n",
       "      <td>Customer</td>\n",
       "      <td>Hi, Im interested in your financial planning ...</td>\n",
       "      <td>0.4019</td>\n",
       "      <td>positive</td>\n",
       "      <td>Introduction</td>\n",
       "      <td>Other</td>\n",
       "    </tr>\n",
       "  </tbody>\n",
       "</table>\n",
       "</div>"
      ],
      "text/plain": [
       "   conversation_id  turn   speaker  \\\n",
       "1                1     0  Customer   \n",
       "3                3     0  Customer   \n",
       "5                5     0  Customer   \n",
       "\n",
       "                                                text  sentiment_score  \\\n",
       "1   Hi, Im interested in learning more about your...           0.4019   \n",
       "3   Hello, Im interested in your financial planni...           0.4019   \n",
       "5   Hi, Im interested in your financial planning ...           0.4019   \n",
       "\n",
       "  sentiment_label conversation_stage response_type  \n",
       "1        positive       Introduction         Other  \n",
       "3        positive       Introduction         Other  \n",
       "5        positive       Introduction         Other  "
      ]
     },
     "execution_count": 21,
     "metadata": {},
     "output_type": "execute_result"
    }
   ],
   "source": [
    "other = df[df['response_type']=='Other']\n",
    "other.head(3)"
   ]
  },
  {
   "cell_type": "code",
   "execution_count": 22,
   "id": "3178db7d-4c2e-4c18-bf97-085360f3e6e4",
   "metadata": {},
   "outputs": [
    {
     "data": {
      "text/plain": [
       "speaker\n",
       "Salesman    3903\n",
       "Customer    2808\n",
       "Name: count, dtype: int64"
      ]
     },
     "execution_count": 22,
     "metadata": {},
     "output_type": "execute_result"
    }
   ],
   "source": [
    "other['speaker'].value_counts()"
   ]
  },
  {
   "cell_type": "code",
   "execution_count": 23,
   "id": "004cbbcb-95aa-4c65-b30f-d66a4bad2a1e",
   "metadata": {},
   "outputs": [
    {
     "name": "stdout",
     "output_type": "stream",
     "text": [
      " Hi, Im interested in learning more about your health products.\n",
      "\n",
      " Hello, Im interested in your financial planning services.\n",
      "\n",
      " Hi, Im interested in your financial planning services.\n",
      "\n",
      " Hi, Im interested in your financial planning services.\n",
      "\n",
      " Hi, Im interested in your financial planning services.\n",
      "\n",
      " Hi, Im interested in purchasing a new smartphone.\n",
      "\n",
      " Hi, Im interested in your financial planning services.\n",
      "\n",
      " Hi, Im interested in your health coaching services.\n",
      "\n",
      " Hi, Im interested in purchasing a new laptop.\n",
      "\n",
      " Hi, Im interested in your financial planning services.\n",
      "\n",
      " Hi, Im interested in investing in your financial products.\n",
      "\n",
      " Im interested in purchasing a new laptop for my business.\n",
      "\n",
      " Hi, Im interested in purchasing a new laptop for my business needs.\n",
      "\n",
      " Hi, Im interested in purchasing a new laptop for my graphic design work.\n",
      "\n",
      " Hi, Im interested in your financial planning services.\n",
      "\n",
      " Hi, Im interested in your financial planning services.\n",
      "\n",
      " Hi, Im interested in your health insurance plans.\n",
      "\n",
      " Hi, Im interested in your financial planning services.\n",
      "\n",
      " Hi, Im interested in your financial planning services.\n",
      "\n",
      " Hi, Im interested in learning more about your health products.\n",
      "\n"
     ]
    }
   ],
   "source": [
    "for text in other['text'][:20]:\n",
    "    print(text+\"\\n\")"
   ]
  },
  {
   "cell_type": "markdown",
   "id": "25028141-6165-44f2-9331-35a4d80b3288",
   "metadata": {},
   "source": [
    "**Most Common Words in \"Other\" Category**"
   ]
  },
  {
   "cell_type": "code",
   "execution_count": 24,
   "id": "34239339-831a-4d76-9e7b-298e7f14ccc9",
   "metadata": {},
   "outputs": [
    {
     "name": "stderr",
     "output_type": "stream",
     "text": [
      "[nltk_data] Downloading package stopwords to\n",
      "[nltk_data]     /Users/jacquelinehong/nltk_data...\n",
      "[nltk_data]   Package stopwords is already up-to-date!\n"
     ]
    },
    {
     "data": {
      "text/html": [
       "<div>\n",
       "<style scoped>\n",
       "    .dataframe tbody tr th:only-of-type {\n",
       "        vertical-align: middle;\n",
       "    }\n",
       "\n",
       "    .dataframe tbody tr th {\n",
       "        vertical-align: top;\n",
       "    }\n",
       "\n",
       "    .dataframe thead th {\n",
       "        text-align: right;\n",
       "    }\n",
       "</style>\n",
       "<table border=\"1\" class=\"dataframe\">\n",
       "  <thead>\n",
       "    <tr style=\"text-align: right;\">\n",
       "      <th></th>\n",
       "      <th>word</th>\n",
       "      <th>frequency</th>\n",
       "    </tr>\n",
       "  </thead>\n",
       "  <tbody>\n",
       "    <tr>\n",
       "      <th>0</th>\n",
       "      <td>im</td>\n",
       "      <td>1498</td>\n",
       "    </tr>\n",
       "    <tr>\n",
       "      <th>1</th>\n",
       "      <td>product</td>\n",
       "      <td>1262</td>\n",
       "    </tr>\n",
       "    <tr>\n",
       "      <th>2</th>\n",
       "      <td>absolutely</td>\n",
       "      <td>1113</td>\n",
       "    </tr>\n",
       "    <tr>\n",
       "      <th>3</th>\n",
       "      <td>customers</td>\n",
       "      <td>848</td>\n",
       "    </tr>\n",
       "    <tr>\n",
       "      <th>4</th>\n",
       "      <td>financial</td>\n",
       "      <td>816</td>\n",
       "    </tr>\n",
       "    <tr>\n",
       "      <th>5</th>\n",
       "      <td>let</td>\n",
       "      <td>746</td>\n",
       "    </tr>\n",
       "    <tr>\n",
       "      <th>6</th>\n",
       "      <td>health</td>\n",
       "      <td>734</td>\n",
       "    </tr>\n",
       "    <tr>\n",
       "      <th>7</th>\n",
       "      <td>help</td>\n",
       "      <td>623</td>\n",
       "    </tr>\n",
       "    <tr>\n",
       "      <th>8</th>\n",
       "      <td>testimonials</td>\n",
       "      <td>564</td>\n",
       "    </tr>\n",
       "    <tr>\n",
       "      <th>9</th>\n",
       "      <td>lets</td>\n",
       "      <td>545</td>\n",
       "    </tr>\n",
       "    <tr>\n",
       "      <th>10</th>\n",
       "      <td>interested</td>\n",
       "      <td>539</td>\n",
       "    </tr>\n",
       "    <tr>\n",
       "      <th>11</th>\n",
       "      <td>share</td>\n",
       "      <td>530</td>\n",
       "    </tr>\n",
       "    <tr>\n",
       "      <th>12</th>\n",
       "      <td>ive</td>\n",
       "      <td>515</td>\n",
       "    </tr>\n",
       "    <tr>\n",
       "      <th>13</th>\n",
       "      <td>success</td>\n",
       "      <td>480</td>\n",
       "    </tr>\n",
       "    <tr>\n",
       "      <th>14</th>\n",
       "      <td>needs</td>\n",
       "      <td>477</td>\n",
       "    </tr>\n",
       "    <tr>\n",
       "      <th>15</th>\n",
       "      <td>great</td>\n",
       "      <td>477</td>\n",
       "    </tr>\n",
       "    <tr>\n",
       "      <th>16</th>\n",
       "      <td>products</td>\n",
       "      <td>472</td>\n",
       "    </tr>\n",
       "    <tr>\n",
       "      <th>17</th>\n",
       "      <td>communication</td>\n",
       "      <td>453</td>\n",
       "    </tr>\n",
       "    <tr>\n",
       "      <th>18</th>\n",
       "      <td>benefits</td>\n",
       "      <td>448</td>\n",
       "    </tr>\n",
       "    <tr>\n",
       "      <th>19</th>\n",
       "      <td>goals</td>\n",
       "      <td>447</td>\n",
       "    </tr>\n",
       "  </tbody>\n",
       "</table>\n",
       "</div>"
      ],
      "text/plain": [
       "             word  frequency\n",
       "0              im       1498\n",
       "1         product       1262\n",
       "2      absolutely       1113\n",
       "3       customers        848\n",
       "4       financial        816\n",
       "5             let        746\n",
       "6          health        734\n",
       "7            help        623\n",
       "8    testimonials        564\n",
       "9            lets        545\n",
       "10     interested        539\n",
       "11          share        530\n",
       "12            ive        515\n",
       "13        success        480\n",
       "14          needs        477\n",
       "15          great        477\n",
       "16       products        472\n",
       "17  communication        453\n",
       "18       benefits        448\n",
       "19          goals        447"
      ]
     },
     "execution_count": 24,
     "metadata": {},
     "output_type": "execute_result"
    }
   ],
   "source": [
    "# Tokenize the text and count word frequencies\n",
    "all_words = [word.lower() for text in other['text'] for word in re.findall(r'\\b\\w+\\b', text)] # regex to remove punctuation\n",
    "\n",
    "# Count the most common words\n",
    "word_counts = Counter(all_words)\n",
    "\n",
    "# Remove stopwords from word count\n",
    "nltk.download('stopwords')\n",
    "stop_words = set(stopwords.words('english'))\n",
    "filtered_word_counts = {word: count for word, count in word_counts.items() if word not in stop_words}\n",
    "\n",
    "# The top 20 most common words\n",
    "common_words_other = Counter(filtered_word_counts).most_common(20)\n",
    "pd.DataFrame(common_words_other, columns=['word', 'frequency'])"
   ]
  },
  {
   "cell_type": "code",
   "execution_count": 25,
   "id": "9a62247a-a7ee-42e6-8fdf-ee56e6e1fa61",
   "metadata": {},
   "outputs": [],
   "source": [
    "# for text in other[other['text'].str.contains(\"customers\", case=False, na=False)][\"text\"][:20]:\n",
    "#     print(text+\"\\n\")"
   ]
  },
  {
   "cell_type": "markdown",
   "id": "ac7b43a7-4628-40a7-ae4d-e99b16fe622a",
   "metadata": {},
   "source": [
    "___"
   ]
  },
  {
   "cell_type": "markdown",
   "id": "95a44412-f792-45e3-ad56-6fa7bb602e13",
   "metadata": {},
   "source": [
    "## Limitations\n",
    "* Potential Misclassifications - Keyword overlap may lead to inaccurate labeling, which would also contribute to a reduction in overall accuracy. With additional resources, a pre-trained model could assist with labeling or manual annotators.\n",
    "* The \"Other\" category is broad, potentially masking more specific response types that could be of great use. Reviewing more data samples and refining categories could help break down this section.\n",
    "* Some responses contain elements that belong to multiple categories, complicating single-label assignment. Multi-label classification could be considered to account for overlapping categories.\n",
    "* Due to the project's scope and time constraints, keyword exploration for category selection was not as involved as it could be with more time used.\n",
    "* Labels are assigned without considering prior dialogue. Response types could be more accurate with that context used in the labeling process.\n",
    "* The sentiment labeling doesn't fully capture the emotional tone, especially without the context of prior dialogue."
   ]
  },
  {
   "cell_type": "markdown",
   "id": "5dac4d9a-d092-47df-9c19-5027f408d0e7",
   "metadata": {},
   "source": [
    "## Final Thoughts\n",
    "\n",
    "This labeling approach provides a practical solution for the goals and scope of this project. Through keyword-based labeling, iterative refinement, and consideration of class balance (especially regarding the originally large \"Other\" category), I gained a meaningful understanding of the typical conversation flow and response dynamics. The use of diverse labels, including conversation stages and response types, helped capture multiple aspects of dialogue. Even though there are limitations, these methods provide an effective starting point. Overall, this approach meets the project's goals and needs."
   ]
  },
  {
   "cell_type": "code",
   "execution_count": 27,
   "id": "c65d7035-f6c2-426c-b6ff-7f0dbda7d651",
   "metadata": {},
   "outputs": [],
   "source": [
    "# df.to_csv(\"../data/processed/labeled_sequential_convos.csv\", index=False)"
   ]
  }
 ],
 "metadata": {
  "kernelspec": {
   "display_name": "Python 3 (ipykernel)",
   "language": "python",
   "name": "python3"
  },
  "language_info": {
   "codemirror_mode": {
    "name": "ipython",
    "version": 3
   },
   "file_extension": ".py",
   "mimetype": "text/x-python",
   "name": "python",
   "nbconvert_exporter": "python",
   "pygments_lexer": "ipython3",
   "version": "3.9.6"
  }
 },
 "nbformat": 4,
 "nbformat_minor": 5
}
